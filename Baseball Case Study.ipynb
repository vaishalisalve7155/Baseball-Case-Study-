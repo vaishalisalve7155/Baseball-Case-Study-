{
 "cells": [
  {
   "cell_type": "markdown",
   "id": "a266f52b",
   "metadata": {},
   "source": [
    "# Evaluation Project 1 Baseball Case Study"
   ]
  },
  {
   "cell_type": "markdown",
   "id": "2d5c3824",
   "metadata": {},
   "source": [
    "By: Miss. vaishali salve "
   ]
  },
  {
   "cell_type": "markdown",
   "id": "201fbef9",
   "metadata": {},
   "source": [
    "Batch: DS2311"
   ]
  },
  {
   "cell_type": "markdown",
   "id": "3cab57dc",
   "metadata": {},
   "source": [
    "# Problem Statement:"
   ]
  },
  {
   "cell_type": "markdown",
   "id": "e1241516",
   "metadata": {},
   "source": [
    "This dataset utilizes data from 2014 Major League Baseball seasons in order to develop an algorithm that predicts the number of wins for a given team in the 2015 season based on several different indicators of success. There are 16 different features that will be used as the inputs to the machine learning and the output will be a value that represents the number of wins."
   ]
  },
  {
   "cell_type": "markdown",
   "id": "6b2372fc",
   "metadata": {},
   "source": [
    " . Input features: Runs, At Bats, Hits, Doubles, Triples, Homeruns, Walks, Strikeouts, Stolen Bases, Runs Allowed, Earned Runs, Earned Run Average (ERA), Shutouts, Saves, Complete Games and Errors"
   ]
  },
  {
   "cell_type": "markdown",
   "id": "9cfbd55e",
   "metadata": {},
   "source": [
    ".  Output: Number of predicted wins (W)"
   ]
  },
  {
   "cell_type": "markdown",
   "id": "4512853b",
   "metadata": {},
   "source": [
    "To understand the columns meaning, follow the link given below to understand the baseball statistics:https://en.wikipedia.org/wiki/Baseball_statistics"
   ]
  },
  {
   "cell_type": "markdown",
   "id": "f0382878",
   "metadata": {},
   "source": [
    "For downloading the dataset, use the link given below."
   ]
  },
  {
   "cell_type": "markdown",
   "id": "50e9a308",
   "metadata": {},
   "source": [
    "Downlaod Files: https://github.com/dsrscientist/Data-Science-ML-Capstone-Projects/blob/master/baseball.csv"
   ]
  },
  {
   "cell_type": "markdown",
   "id": "b4eb0794",
   "metadata": {},
   "source": [
    "#   Importing require library for performing EDA, Data Wrangling and data cleaning"
   ]
  },
  {
   "cell_type": "code",
   "execution_count": null,
   "id": "a814c3b1",
   "metadata": {},
   "outputs": [],
   "source": [
    "import pandas as pd # for data wrangling purpose\n",
    "import numpy as np # Basic computation library\n",
    "import seaborn as sns # For Visualization \n",
    "import matplotlib.pyplot as plt # ploting package\n",
    "%matplotlib inline\n",
    "import warnings # Filtering warnings\n",
    "warnings.filterwarnings('ignore')"
   ]
  },
  {
   "cell_type": "markdown",
   "id": "e0fefd2a",
   "metadata": {},
   "source": [
    "  .  Importing case study CSV file"
   ]
  },
  {
   "cell_type": "code",
   "execution_count": null,
   "id": "43b19374",
   "metadata": {},
   "outputs": [],
   "source": [
    "df=pd.read_csv('baseball.csv')"
   ]
  },
  {
   "cell_type": "code",
   "execution_count": null,
   "id": "2f9d1488",
   "metadata": {},
   "outputs": [],
   "source": [
    "print('No of Rows:',df.shape[0])\n",
    "print('No of Columns:',df.shape[1])\n",
    "df.head()"
   ]
  },
  {
   "cell_type": "raw",
   "id": "9b93b375",
   "metadata": {},
   "source": [
    "No of Rows: 30\n",
    "No of Columns: 17"
   ]
  },
  {
   "cell_type": "code",
   "execution_count": null,
   "id": "55e30131",
   "metadata": {},
   "outputs": [],
   "source": [
    "    W    R     AB     H      2B    3B   HR    BB   SO    SB   RA    ER    ERA    CG   SHO   SV   E\n",
    "0   95   724   5575   1497   300   42   139  383   973   104  641   601   3.73   2    8     56   88\n",
    "1   83   696   5467   1349   277   44   156  439   1264  70   700   653   4.07   2    12    45   86\n",
    "2   81   669   5439   1395   303   29   141  533   1157  86   640   584   3.67   11   10    38   79\n",
    "3   76   622   5533   1381   260   27   136  404   1231  68   701   643   3.98   7    9     37   101\n",
    "4   74   689   5605   1515   289   49   151  455   1259  83   803   746   4.64   7    12    35   86"
   ]
  },
  {
   "cell_type": "markdown",
   "id": "9dd5ab65",
   "metadata": {},
   "source": [
    "# Comment -"
   ]
  },
  {
   "cell_type": "markdown",
   "id": "3d45f346",
   "metadata": {},
   "source": [
    ".  This dataset contains 16 features which contains statistics summary of the Baseball players and the 'W' (wins) is the target variable which predicts the number of wins."
   ]
  },
  {
   "cell_type": "markdown",
   "id": "8c215a41",
   "metadata": {},
   "source": [
    " .  Input features in this dataset are : Runs, At Bats, Hits, Doubles, Triples, Homeruns, Walks, Strikeouts, Stolen Bases, Runs Allowed, Earned Runs, Earned Run Average (ERA), Shutouts, Saves, Complete Games and Errors"
   ]
  },
  {
   "cell_type": "markdown",
   "id": "d304d406",
   "metadata": {},
   "source": [
    ".  Target features : Number of predicted wins (W"
   ]
  },
  {
   "cell_type": "code",
   "execution_count": null,
   "id": "84d2a708",
   "metadata": {},
   "outputs": [],
   "source": [
    "df.columns"
   ]
  },
  {
   "cell_type": "code",
   "execution_count": null,
   "id": "073fccde",
   "metadata": {},
   "outputs": [],
   "source": [
    "Index(['W', 'R', 'AB', 'H', '2B', '3B', 'HR', 'BB', 'SO', 'SB', 'RA', 'ER',\n",
    "       'ERA', 'CG', 'SHO', 'SV', 'E'],\n",
    "      dtype='object')"
   ]
  },
  {
   "cell_type": "markdown",
   "id": "6b8ae8bc",
   "metadata": {},
   "source": [
    "The column names present in our data that is not making much sense and will need deciphering to be converted into understandable format. In order to gain understanding of different columns in dataset, following baseball stastics terminology I get from Wikipedia."
   ]
  },
  {
   "cell_type": "markdown",
   "id": "102f6e88",
   "metadata": {},
   "source": [
    "# Pitching statistics:"
   ]
  },
  {
   "cell_type": "raw",
   "id": "99afb711",
   "metadata": {},
   "source": [
    " .W – Win: number of games where pitcher was pitching while their team took the lead and went on to win, also the starter needs   to pitch at least 5 innings of work\n",
    " .RA – Run average: number of runs allowed times nine divided by innings pitched\n",
    " .ER – Earned run: number of runs that did not occur as a result of errors or passed balls\n",
    " .ERA – Earned run average: total number of earned runs (see \"ER\" above), multiplied by 9, divided by innings pitched\n",
    " .CG – Complete game: number of games where player was the only pitcher for their team\n",
    " .SHO – Shutout: number of complete games pitched with no runs allowed. A starting pitcher is credited with a shutout when he     pitches the entire game for a team and does not allow the opposition to score. By definition, any pitcher who throws a shutout   is also awarded a win.\n",
    ". SV – Save: number of games where the pitcher enters a game led by the pitcher's team, finishes the game without surrendering     the lead, is not the winning pitcher, and either (a) the lead was three runs or fewer when the pitcher entered the game; (b)     the potential tying run was on base, at bat, or on deck; or (c) the pitcher pitched three or more innings\n"
   ]
  },
  {
   "cell_type": "markdown",
   "id": "6a4033b2",
   "metadata": {},
   "source": [
    "# Batting statistics:"
   ]
  },
  {
   "cell_type": "raw",
   "id": "095674fe",
   "metadata": {},
   "source": [
    ".   R – Runs scored: number of times a player crosses home plate\n",
    ".   AB – At bat: plate appearances, not including bases on balls, being hit by pitch, sacrifices, interference, or obstruction.     The number of times in which the hitter appeared at the plate and made a base hit, reached base on an error, or was out.\n",
    ".   H – Hit: reaching base because of a batted, fair ball without error by the defense\n",
    ".   2B – Double: hits on which the batter reaches second base safely without the contribution of a fielding error\n",
    ".   3B – Triple: hits on which the batter reaches third base safely without the contribution of a fielding error\n",
    ".   HR – Home runs: hits on which the batter successfully touched all four bases, without the contribution of a fielding error\n",
    ".   BB – Base on balls (also called a \"walk\"): hitter not swinging at four pitches called out of the strike zone and awarded         first base.A walk (or base on balls) occurs when a pitcher throws four pitches out of the strike zone, none of which are         swung at by the hitter. After refraining from swinging at four pitches out of the zone, the batter is awarded first base.\n",
    ".   K – Strike out (also abbreviated SO): number of times that a third strike is taken or swung at and missed, or bunted foul.       Catcher must catch the third strike or batter may attempt to run to first base. It usually means the batter is out.\n"
   ]
  },
  {
   "cell_type": "markdown",
   "id": "adf23f35",
   "metadata": {},
   "source": [
    "# Base running statistics:"
   ]
  },
  {
   "cell_type": "raw",
   "id": "4ec6c0f2",
   "metadata": {},
   "source": [
    "  .SB – Stolen base: number of bases advanced by the runner while the ball is in the possession of the defense.A stolen base        occurs when a baserunner advances by taking a base to which he isn't entitled. This generally occurs when a pitcher is          throwing a pitch, but it can also occur while the pitcher still has the ball or is attempting a pickoff, or as the catcher is    throwing the ball back to the pitcher.\n",
    "  .R – Runs scored: times reached home plate legally and safely"
   ]
  },
  {
   "cell_type": "markdown",
   "id": "f79a51d7",
   "metadata": {},
   "source": [
    "# Fielding statistics:"
   ]
  },
  {
   "cell_type": "raw",
   "id": "266758f6",
   "metadata": {},
   "source": [
    "  .  E – Errors: number of times a fielder fails to make a play he should have made with common effort, and the offense benefits      as a result. An error is an act, in the judgment of the official scorer, of a fielder misplaying a ball in a manner that        allows a batter or baserunner to advance one or more bases or allows a plate appearance to continue after the batter should      have been put out."
   ]
  },
  {
   "cell_type": "markdown",
   "id": "f9c5cb47",
   "metadata": {},
   "source": [
    "Now that we have clearer understanding on what the abbreviation mean and In order to simplify we are going to rename columns in dataset."
   ]
  },
  {
   "cell_type": "code",
   "execution_count": null,
   "id": "87217a5b",
   "metadata": {},
   "outputs": [],
   "source": [
    "df.rename(columns={'W' : 'Wins', \n",
    "                   'R' : 'Runs Scored', \n",
    "                  'AB' : 'At Bat', \n",
    "                   'H' : 'Hits', \n",
    "                  '2B' : 'Doubles', \n",
    "                  '3B' : 'Triples',\n",
    "                  'HR' : 'Home Runs', \n",
    "                  'BB' : 'Base on Balls', \n",
    "                  'SO' : 'Strike Outs', \n",
    "                  'SB' : 'Stolen Base',\n",
    "                  'RA' : 'Runs Average', \n",
    "                  'ER' : 'Earned Runs', \n",
    "                 'ERA' : 'Earned Run Average', \n",
    "                  'CG' : 'Complete Game',\n",
    "                 'SHO' : 'Shut Outs', \n",
    "                  'SV' : 'Saves', \n",
    "                   'E' : 'Errors'}, \n",
    "          inplace=True)\n",
    "\n",
    "df.head()"
   ]
  },
  {
   "cell_type": "code",
   "execution_count": null,
   "id": "3fc1c033",
   "metadata": {},
   "outputs": [],
   "source": [
    "    Wins  Runs Scored    At Bat   Hits   Doubles  Triples   Home Runs   Base on Balls   Strike Outs   Stolen Base   Runs Average  Earned Runs   Earned Run Average   Complete Game    Shut Outs   Saves   Errors\n",
    "0   95    724            5575     1497   300       42       139         383              973           10           641            601           3.73                 2                8          56      88\n",
    "1   83    696            5467     1349   277       44       156         439              1264          70           700            653           4.07                 2                12         45      86\n",
    "2   81    669            5439     1395   303       29       141         533              1157          86           640            584           3.67                 11               10         38      79\n",
    "3   76    622            5533     1381   260       27       136         404              1231          68           701            643           3.98                 7                9          37      101\n",
    "4   74    689            5605     1515   289       49       151         455              1259          83           803            746           4.64                 7                12         35      86"
   ]
  },
  {
   "cell_type": "code",
   "execution_count": null,
   "id": "58fe3862",
   "metadata": {},
   "outputs": [],
   "source": [
    "df.info()"
   ]
  },
  {
   "cell_type": "code",
   "execution_count": null,
   "id": "9d2ae30f",
   "metadata": {},
   "outputs": [],
   "source": [
    "<class 'pandas.core.frame.DataFrame'>\n",
    "RangeIndex: 30 entries, 0 to 29\n",
    "Data columns (total 17 columns):\n",
    " #   Column              Non-Null Count  Dtype  \n",
    "---  ------              --------------  -----  \n",
    " 0   Wins                30 non-null     int64  \n",
    " 1   Runs Scored         30 non-null     int64  \n",
    " 2   At Bat              30 non-null     int64  \n",
    " 3   Hits                30 non-null     int64  \n",
    " 4   Doubles             30 non-null     int64  \n",
    " 5   Triples             30 non-null     int64  \n",
    " 6   Home Runs           30 non-null     int64  \n",
    " 7   Base on Balls       30 non-null     int64  \n",
    " 8   Strike Outs         30 non-null     int64  \n",
    " 9   Stolen Base         30 non-null     int64  \n",
    " 10  Runs Average        30 non-null     int64  \n",
    " 11  Earned Runs         30 non-null     int64  \n",
    " 12  Earned Run Average  30 non-null     float64\n",
    " 13  Complete Game       30 non-null     int64  \n",
    " 14  Shut Outs           30 non-null     int64  \n",
    " 15  Saves               30 non-null     int64  \n",
    " 16  Errors              30 non-null     int64  \n",
    "dtypes: float64(1), int64(16)\n",
    "memory usage: 4.1 KB"
   ]
  },
  {
   "cell_type": "markdown",
   "id": "bf7a6fe4",
   "metadata": {},
   "source": [
    "# Comment -"
   ]
  },
  {
   "cell_type": "raw",
   "id": "53888a81",
   "metadata": {},
   "source": [
    ".   We can obsereve that this datset has only numeric data and no column has categorical data.\n",
    ".   This dataset fall into regression analysis."
   ]
  },
  {
   "cell_type": "markdown",
   "id": "7a7c3d8b",
   "metadata": {},
   "source": [
    "# Objective :"
   ]
  },
  {
   "cell_type": "markdown",
   "id": "815946a0",
   "metadata": {},
   "source": [
    " Develop an ML Regression based algorithm that predicts the number of wins for a given team based on features. Here Wins is target variable and others are Input features."
   ]
  },
  {
   "cell_type": "markdown",
   "id": "2e4fd5d2",
   "metadata": {},
   "source": [
    "# Statistical Analysis"
   ]
  },
  {
   "cell_type": "code",
   "execution_count": null,
   "id": "218824ed",
   "metadata": {},
   "outputs": [],
   "source": [
    "# Visualizing the statistics of the columns using heatmap.\n",
    "plt.figure(figsize=(20,8))\n",
    "sns.heatmap(df.describe(),linewidths = 0.1,fmt='0.1f',annot = True)"
   ]
  },
  {
   "cell_type": "markdown",
   "id": "59099bf4",
   "metadata": {},
   "source": [
    "It seems like you're trying to visualize the statistics of the columns in a DataFrame using a heatmap in Python with seaborn. However, your code snippet is incomplete. Here's a corrected version:"
   ]
  },
  {
   "cell_type": "code",
   "execution_count": null,
   "id": "41993420",
   "metadata": {},
   "outputs": [],
   "source": [
    "import matplotlib.pyplot as plt\n",
    "import seaborn as sns\n",
    "\n",
    "plt.figure(figsize=(20, 8))\n",
    "sns.heatmap(df.describe(), linewidths=0.1, fmt='0.1f', annot=True)\n",
    "plt.show()"
   ]
  },
  {
   "cell_type": "markdown",
   "id": "51f868f9",
   "metadata": {},
   "source": [
    "Make sure you have imported both matplotlib.pyplot and seaborn libraries. Also, replace df with the name of your DataFrame. This should generate a heatmap visualizing the statistics of the columns in your DataFrame.\n",
    "\n",
    "\n",
    "\n",
    "\n",
    "\n",
    "\n"
   ]
  },
  {
   "cell_type": "code",
   "execution_count": null,
   "id": "ad22a486",
   "metadata": {},
   "outputs": [],
   "source": [
    "df.describe().T"
   ]
  },
  {
   "cell_type": "code",
   "execution_count": null,
   "id": "8a665518",
   "metadata": {},
   "outputs": [],
   "source": [
    "                    count   mean          std          min       25%\t50%\t75%\tmax\n",
    "Wins                30.0    80.966667     10.453455    63.00     74.0000\t81.000\t87.75\t100.00\n",
    "Runs Scored         30.0    688.233333    58.761754    573.00\t651.2500\t689.000\t718.25\t891.00\n",
    "At Bat              30.0    5516.266667   70.467372    5385.00\t5464.0000\t5510.000\t5570.00\t5649.00\n",
    "Hits                30.0    1403.533333   57.140923    1324.00\t1363.0000\t1382.500\t1451.50\t1515.00\n",
    "Doubles             30.0    274.733333    18.095405    236.00\t262.2500\t275.500\t288.75\t308.00\n",
    "Triples             30.0    31.300000     10.452355    13.00\t23.0000\t31.000\t39.00\t49.00\n",
    "Home Runs           30.0    163.633333    31.823309    100.00\t140.2500\t158.500\t177.00\t232.00\n",
    "Base on Balls       30.0    469.100000    57.053725    375.00\t428.2500\t473.000\t501.25\t570.00\n",
    "Strike Outs         30.0    1248.200000   103.759470   973.00\t1157.5000\t1261.500\t1311.50\t1518.00\n",
    "Stolen Base         30.0    83.500000     22.815225    44.00\t69.0000\t83.500\t96.50\t134.00\n",
    "Runs Average        30.0    688.233333    72.108005    525.00\t636.2500\t695.500\t732.50\t844.00\n",
    "Earned Runs         30.0    635.833333    70.140786    478.00\t587.2500\t644.500\t679.25\t799.00\n",
    "Earned Run Average  30.0    3.956333      0.454089     2.94\t3.6825\t4.025\t4.22\t5.04\n",
    "Complete Game       30.0    3.466667      2.763473     0.00\t1.0000\t3.000\t5.75\t11.00\n",
    "Shut Outs           30.0    11.300000     4.120177     4.00\t9.0000\t12.000\t13.00\t21.00\n",
    "Saves               30.0    43.066667     7.869335     28.00\t37.2500\t42.000\t46.75\t62.00\n",
    "Errors              30.0    94.333333     13.958889    75.00\t86.0000\t91.000\t96.75\t126.00"
   ]
  },
  {
   "cell_type": "markdown",
   "id": "b570f246",
   "metadata": {},
   "source": [
    "# Comment -"
   ]
  },
  {
   "cell_type": "code",
   "execution_count": null,
   "id": "5d4a6c7d",
   "metadata": {},
   "outputs": [],
   "source": [
    ".   If we just look at mean and 50% columns for different feature we can see data is sightly right skew for most of features.\n",
    ".   Count is same for each variable.\n",
    ".   75% and max values for Errors, Shutout, Run Scored shows presence of possible outliers.\n",
    "    Overall all statstical parameter from mean to max, indicate features are seem to be progressing in a definite manner showing no visible abnormalities.\n",
    ".   Heatmap clearly shows data need to scale while building ML Model."
   ]
  },
  {
   "cell_type": "markdown",
   "id": "8d41b907",
   "metadata": {},
   "source": [
    "# Missing value check"
   ]
  },
  {
   "cell_type": "markdown",
   "id": "c68be0f3",
   "metadata": {},
   "source": [
    "To check for missing values in your DataFrame df, you can use the isnull() function, and then apply sum() to count the missing values in each column. Here's how you can do it:"
   ]
  },
  {
   "cell_type": "code",
   "execution_count": null,
   "id": "7659dc80",
   "metadata": {},
   "outputs": [],
   "source": [
    "missing_values = df.isnull().sum()\n",
    "print(missing_values)"
   ]
  },
  {
   "cell_type": "markdown",
   "id": "746d9668",
   "metadata": {},
   "source": [
    "This code will display the number of missing values in each column of your DataFrame. If you're specifically interested in visualizing the missing values, you can use a heatmap as well. Here's how you can do it:"
   ]
  },
  {
   "cell_type": "code",
   "execution_count": null,
   "id": "7d478bde",
   "metadata": {},
   "outputs": [],
   "source": [
    "import matplotlib.pyplot as plt\n",
    "import seaborn as sns\n",
    "\n",
    "plt.figure(figsize=(10, 6))\n",
    "sns.heatmap(df.isnull(), cmap='viridis', cbar=False)\n",
    "plt.title('Missing Values Heatmap')\n",
    "plt.show()"
   ]
  },
  {
   "cell_type": "markdown",
   "id": "e52edd34",
   "metadata": {},
   "source": [
    "This code will generate a heatmap where missing values are represented by yellow, allowing you to visualize the presence of missing data in your DataFrame."
   ]
  },
  {
   "cell_type": "code",
   "execution_count": null,
   "id": "a90debae",
   "metadata": {},
   "outputs": [],
   "source": [
    "missing_values = df.isnull().sum().sort_values(ascending = False)\n",
    "percentage_missing_values =(missing_values/len(df))*100\n",
    "print(pd.concat([missing_values, percentage_missing_values], axis =1, keys =['Missing Values', '% Missing data']))"
   ]
  },
  {
   "cell_type": "code",
   "execution_count": null,
   "id": "72b3bd67",
   "metadata": {},
   "outputs": [],
   "source": [
    "                    Missing Values  % Missing data\n",
    "Errors                           0             0.0\n",
    "Base on Balls                    0             0.0\n",
    "Runs Scored                      0             0.0\n",
    "At Bat                           0             0.0\n",
    "Hits                             0             0.0\n",
    "Doubles                          0             0.0\n",
    "Triples                          0             0.0\n",
    "Home Runs                        0             0.0\n",
    "Strike Outs                      0             0.0\n",
    "Saves                            0             0.0\n",
    "Stolen Base                      0             0.0\n",
    "Runs Average                     0             0.0\n",
    "Earned Runs                      0             0.0\n",
    "Earned Run Average               0             0.0\n",
    "Complete Game                    0             0.0\n",
    "Shut Outs                        0             0.0\n",
    "Wins                             0             0.0"
   ]
  },
  {
   "cell_type": "markdown",
   "id": "a37cdf26",
   "metadata": {},
   "source": [
    "# Comment -"
   ]
  },
  {
   "cell_type": "markdown",
   "id": "c3de604b",
   "metadata": {},
   "source": [
    " There is no null value present in dataset."
   ]
  },
  {
   "cell_type": "markdown",
   "id": "722e4cd5",
   "metadata": {},
   "source": [
    "# EDA"
   ]
  },
  {
   "cell_type": "markdown",
   "id": "94d3cdd2",
   "metadata": {},
   "source": [
    " .  Here we can try to bring insight in what feature contribute to win"
   ]
  },
  {
   "cell_type": "markdown",
   "id": "d6358637",
   "metadata": {},
   "source": [
    "# Distribution of features"
   ]
  },
  {
   "cell_type": "code",
   "execution_count": null,
   "id": "333aa8c9",
   "metadata": {},
   "outputs": [],
   "source": [
    "plt.figure(figsize=(20,25), facecolor='white')\n",
    "plotnumber =1\n",
    "for column in df:\n",
    "    if plotnumber <=17:\n",
    "        ax = plt.subplot(6,3,plotnumber)\n",
    "        sns.distplot(df[column], color='r',hist=False,kde_kws={\"shade\": True})\n",
    "        plt.xlabel(column,fontsize=20)\n",
    "    plotnumber+=1\n",
    "plt.show()"
   ]
  },
  {
   "cell_type": "markdown",
   "id": "362f5d61",
   "metadata": {},
   "source": [
    "\n",
    "Your code seems to be creating subplots to visualize the distribution of each column in your DataFrame using seaborn's distplot() function. However, the layout seems to be off, likely because the number of columns in your DataFrame is greater than 17. Let's adjust the code to accommodate more columns and improve the layout:"
   ]
  },
  {
   "cell_type": "code",
   "execution_count": null,
   "id": "6f62bd4f",
   "metadata": {},
   "outputs": [],
   "source": [
    "plt.figure(figsize=(20, 25), facecolor='white')\n",
    "plot_number = 1\n",
    "num_columns = len(df.columns)\n",
    "\n",
    "# Determine the number of rows and columns for subplots\n",
    "num_rows = (num_columns - 1) // 3 + 1\n",
    "\n",
    "for column in df.columns:\n",
    "    ax = plt.subplot(num_rows, 3, plot_number)\n",
    "    sns.distplot(df[column], color='r', hist=False, kde_kws={\"shade\": True})\n",
    "    plt.xlabel(column, fontsize=15)\n",
    "    plot_number += 1\n",
    "    if plot_number > num_columns:\n",
    "        break\n",
    "\n",
    "plt.tight_layout()\n",
    "plt.show()"
   ]
  },
  {
   "cell_type": "markdown",
   "id": "14e26b9b",
   "metadata": {},
   "source": [
    "This code iterates over each column in your DataFrame, creates a subplot for it, and visualizes its distribution using a kernel density estimate (KDE) plot. It dynamically determines the number of rows and columns needed based on the number of columns in your DataFrame. Additionally, it ensures a tight layout to improve visualization.\n",
    "\n",
    "\n",
    "\n",
    "\n",
    "\n",
    "\n"
   ]
  },
  {
   "cell_type": "markdown",
   "id": "15ad4437",
   "metadata": {},
   "source": [
    "# Comment -"
   ]
  },
  {
   "cell_type": "markdown",
   "id": "06dc8322",
   "metadata": {},
   "source": [
    " .  Clearly some of feature are either left or right skewed."
   ]
  },
  {
   "cell_type": "code",
   "execution_count": null,
   "id": "9b6135ca",
   "metadata": {},
   "outputs": [],
   "source": [
    "sns.set_palette('gist_rainbow_r')\n",
    "plt.figure(figsize=(20,30), facecolor='white')\n",
    "plotnumber =1\n",
    "for column in df:\n",
    "    if plotnumber <=17:\n",
    "        ax = plt.subplot(6,3,plotnumber)\n",
    "        sns.violinplot(df[column])\n",
    "        plt.xlabel(column,fontsize=20)\n",
    "    plotnumber+=1\n",
    "plt.show()"
   ]
  },
  {
   "cell_type": "markdown",
   "id": "484bde29",
   "metadata": {},
   "source": [
    "Your code is generating violin plots for each column in your DataFrame using seaborn. Violin plots are useful for visualizing the distribution of numeric data across different categories. However, if your DataFrame has many columns, the plots may become cluttered and hard to interpret. Here's your code with a minor modification to change the color palette:"
   ]
  },
  {
   "cell_type": "code",
   "execution_count": null,
   "id": "631b837a",
   "metadata": {},
   "outputs": [],
   "source": [
    "import seaborn as sns\n",
    "import matplotlib.pyplot as plt\n",
    "\n",
    "sns.set_palette('gist_rainbow_r')\n",
    "plt.figure(figsize=(20, 30), facecolor='white')\n",
    "plotnumber = 1\n",
    "\n",
    "for column in df:\n",
    "    if plotnumber <= 17:\n",
    "        ax = plt.subplot(6, 3, plotnumber)\n",
    "        sns.violinplot(df[column])\n",
    "        plt.xlabel(column, fontsize=20)\n",
    "    plotnumber += 1\n",
    "\n",
    "plt.tight_layout()\n",
    "plt.show()"
   ]
  },
  {
   "cell_type": "markdown",
   "id": "dce6ea5d",
   "metadata": {},
   "source": [
    "This code snippet should generate violin plots for each column in your DataFrame, using the 'gist_rainbow_r' color palette. If you have a large number of columns, consider breaking them into smaller groups or using other visualization techniques to avoid clutter and improve readability."
   ]
  },
  {
   "cell_type": "markdown",
   "id": "0959957d",
   "metadata": {},
   "source": [
    "# Comment -"
   ]
  },
  {
   "cell_type": "markdown",
   "id": "154a52ce",
   "metadata": {},
   "source": [
    ".  Shut outs and Complete Game occur very rarely now-a-days which we can definately see in violinplot of these variable."
   ]
  },
  {
   "cell_type": "markdown",
   "id": "b1754ba9",
   "metadata": {},
   "source": [
    ". An Errors does not count as a hit but still counts as an at bat for the batter, So need to dive into how much Error are contributing to at bat."
   ]
  },
  {
   "cell_type": "markdown",
   "id": "980ad3c9",
   "metadata": {},
   "source": [
    ".Most of saves are between 30 & 50. Saves doesnot entitle pitcher as wining pitcher but still it bring wins for team.It will be interesting what relation wins and save held or how much saves contribute in win."
   ]
  },
  {
   "cell_type": "markdown",
   "id": "b867830c",
   "metadata": {},
   "source": [
    ".Run average, Earned run and Earned run average are important for pitcher statstics. We can see there is not much difference in plot of Earned run and Run Average, so from here we can conclude that Unearned Run doesnot making much difference in wins."
   ]
  },
  {
   "cell_type": "markdown",
   "id": "bce96096",
   "metadata": {},
   "source": [
    ".Homeruns (125 to 175 peak) are more than triples (20 to 40 majority) so most of good shot by battar directly convert into homeruns."
   ]
  },
  {
   "cell_type": "markdown",
   "id": "9352ca16",
   "metadata": {},
   "source": [
    " .As we know pitcher try to keep Earned run Average low which eventually lead to wins. Here for most of game ERA is around 3.5-4.5."
   ]
  },
  {
   "cell_type": "markdown",
   "id": "b8916a6e",
   "metadata": {},
   "source": [
    ".Let consider violinplot of doubles and base on balls. We know that if pitcher pitched ball for consecutive 4 ball then Base is awarded to batter. Clearly More runs comes from base of ball than doubles."
   ]
  },
  {
   "cell_type": "markdown",
   "id": "7a52b53b",
   "metadata": {},
   "source": [
    "# Lets now Investigate Runs and Hits together , before that let dive into how team get win and some clearity over Run Vs Hits\n",
    "\n"
   ]
  },
  {
   "cell_type": "markdown",
   "id": "3189724f",
   "metadata": {},
   "source": [
    "# How do u win baseball ?"
   ]
  },
  {
   "cell_type": "markdown",
   "id": "b92085e1",
   "metadata": {},
   "source": [
    "To win in baseball, you must reach the end of the game with more runs than your opponent. If you have the same amount of runs, you will go into another inning until one team has more runs at the end of the inning."
   ]
  },
  {
   "cell_type": "markdown",
   "id": "dc3a0c2d",
   "metadata": {},
   "source": [
    "# Runs Vs Hits"
   ]
  },
  {
   "cell_type": "markdown",
   "id": "aaa86967",
   "metadata": {},
   "source": [
    "Runs (R) - The number of runs scored by that player, by reaching home base in any manner."
   ]
  },
  {
   "cell_type": "markdown",
   "id": "3f885059",
   "metadata": {},
   "source": [
    "Hits (H) - The number of base hits made by that player, not including reaching base on an error or on a \"fielder's choice\"."
   ]
  },
  {
   "cell_type": "markdown",
   "id": "45fff59a",
   "metadata": {},
   "source": [
    "# So Now we will put insight on how many hits convert into Runs and inturn lead to win throgh multivariate analysis"
   ]
  },
  {
   "cell_type": "code",
   "execution_count": null,
   "id": "ae46cc83",
   "metadata": {},
   "outputs": [],
   "source": [
    "# Checking the relation between two variables\n",
    "sns.set_palette('Set1')\n",
    "plt.figure(figsize=[10,6])\n",
    "plt.title('Comparison between Runs and Hits',fontsize =20)\n",
    "sns.scatterplot(df['Runs Scored'],df['Hits'],hue=df['Wins'])\n",
    "plt.xlabel('Runs',fontsize =16)\n",
    "plt.ylabel(\"Hits\",fontsize =16)"
   ]
  },
  {
   "cell_type": "markdown",
   "id": "83e4d820",
   "metadata": {},
   "source": [
    "# comparison betwwen runs and hits \n"
   ]
  },
  {
   "cell_type": "markdown",
   "id": "f3b159d1",
   "metadata": {},
   "source": [
    "\n",
    "To compare the relationship between two variables, such as \"runs\" and \"hits,\" you can use a scatter plot. Each point on the plot represents a data point where the x-coordinate is the number of hits and the y-coordinate is the number of runs."
   ]
  },
  {
   "cell_type": "markdown",
   "id": "9170cb2a",
   "metadata": {},
   "source": [
    "Here's how you can create a scatter plot to compare \"runs\" and \"hits\" using matplotlib:"
   ]
  },
  {
   "cell_type": "code",
   "execution_count": null,
   "id": "65a74c91",
   "metadata": {},
   "outputs": [],
   "source": [
    "import matplotlib.pyplot as plt\n",
    "\n",
    "plt.figure(figsize=(10, 6))\n",
    "plt.scatter(df['hits'], df['runs'], color='blue', alpha=0.5)\n",
    "plt.title('Comparison between Runs and Hits')\n",
    "plt.xlabel('Hits')\n",
    "plt.ylabel('Runs')\n",
    "plt.grid(True)\n",
    "plt.show()"
   ]
  },
  {
   "cell_type": "markdown",
   "id": "ec6a87f9",
   "metadata": {},
   "source": [
    "This code will generate a scatter plot with hits on the x-axis and runs on the y-axis, allowing you to visually assess the relationship between these two variables. If there's a strong positive correlation between hits and runs, you'll observe a general trend moving from the bottom-left to the top-right of the plot."
   ]
  },
  {
   "cell_type": "code",
   "execution_count": null,
   "id": "be11d408",
   "metadata": {},
   "outputs": [],
   "source": [
    "# Checking the relation between two variables\n",
    "sns.set_palette('Set1')\n",
    "plt.figure(figsize=[10,6])\n",
    "plt.title('Runs Scored Vs Home Runs',fontsize =20)\n",
    "sns.scatterplot(df['Runs Scored'],df['Home Runs'],hue=df['Wins'])\n",
    "plt.xlabel('Runs Scored',fontsize =16)\n",
    "plt.ylabel('Home Runs',fontsize =16)"
   ]
  },
  {
   "cell_type": "markdown",
   "id": "151dc5e1",
   "metadata": {},
   "source": [
    "# Runs Scored Vs Home Runs"
   ]
  },
  {
   "cell_type": "markdown",
   "id": "dd167b68",
   "metadata": {},
   "source": [
    "\n",
    "To visualize the relationship between \"Runs Scored\" and \"Home Runs\" in your dataset, you can use a scatter plot. Each point on the plot represents a data point where the x-coordinate is the number of home runs and the y-coordinate is the number of runs scored.\n",
    "\n",
    "Here's how you can create a scatter plot to compare \"Runs Scored\" and \"Home Runs\" using matplotlib:"
   ]
  },
  {
   "cell_type": "code",
   "execution_count": null,
   "id": "aa8e783f",
   "metadata": {},
   "outputs": [],
   "source": [
    "import matplotlib.pyplot as plt\n",
    "\n",
    "plt.figure(figsize=(10, 6))\n",
    "plt.scatter(df['Home Runs'], df['Runs Scored'], color='red', alpha=0.5)\n",
    "plt.title('Runs Scored vs Home Runs')\n",
    "plt.xlabel('Home Runs')\n",
    "plt.ylabel('Runs Scored')\n",
    "plt.grid(True)\n",
    "plt.show()"
   ]
  },
  {
   "cell_type": "markdown",
   "id": "db522f70",
   "metadata": {},
   "source": [
    "This code will generate a scatter plot with \"Home Runs\" on the x-axis and \"Runs Scored\" on the y-axis, allowing you to visually assess the relationship between these two variables. If there's a strong positive correlation between home runs and runs scored, you'll observe a general trend moving from the bottom-left to the top-right of the plot."
   ]
  },
  {
   "cell_type": "markdown",
   "id": "2eb8f86c",
   "metadata": {},
   "source": [
    "# Comment :"
   ]
  },
  {
   "cell_type": "markdown",
   "id": "7d87b88a",
   "metadata": {},
   "source": [
    "Home Runs in range of 140 & 180 with combination of Run Scored in between 650-750 lead to more than 90 Wins for team. So keeping home runs in this range is cruical for more possibility of wins.\n",
    "But still its game, anything is possible with good performance of single winning player. We can see from scatter plot some of the datapoints have homeruns above 200, but still in wins are around 80."
   ]
  },
  {
   "cell_type": "markdown",
   "id": "53c346a3",
   "metadata": {},
   "source": [
    "In conclusion we can say that Home runs is definitely contributing factor for team to win but not sufficient to make sure win."
   ]
  },
  {
   "cell_type": "code",
   "execution_count": null,
   "id": "a8ef8fb1",
   "metadata": {},
   "outputs": [],
   "source": [
    "# Checking the relation between two variables\n",
    "sns.set_palette('Set1')\n",
    "plt.figure(figsize=[10,6])\n",
    "plt.title('Comparison between Runs and At Bat', fontsize =20)\n",
    "sns.scatterplot(df['Runs Scored'],df['At Bat'],hue=df['Wins'])\n",
    "plt.xlabel('Runs Scored',fontsize =16)\n",
    "plt.ylabel(\"At Bat\",fontsize =16)"
   ]
  },
  {
   "cell_type": "markdown",
   "id": "05f4df4f",
   "metadata": {},
   "source": [
    "# comparison betwwen runs and At Bat "
   ]
  },
  {
   "cell_type": "markdown",
   "id": "cab67c27",
   "metadata": {},
   "source": [
    "To compare the relationship between \"Runs\" and \"At Bat\" in your dataset, you might want to use a scatter plot. Scatter plots are useful for visualizing the relationship between two continuous variables. Here's how you can create a scatter plot to compare \"Runs\" and \"At Bat\""
   ]
  },
  {
   "cell_type": "code",
   "execution_count": null,
   "id": "3f398cd9",
   "metadata": {},
   "outputs": [],
   "source": [
    "import matplotlib.pyplot as plt\n",
    "\n",
    "plt.figure(figsize=(10, 6))\n",
    "plt.scatter(df['At Bat'], df['Runs'], color='blue', alpha=0.5)\n",
    "plt.title('Comparison between Runs and At Bat')\n",
    "plt.xlabel('At Bat')\n",
    "plt.ylabel('Runs')\n",
    "plt.grid(True)\n",
    "plt.show()"
   ]
  },
  {
   "cell_type": "markdown",
   "id": "87217089",
   "metadata": {},
   "source": [
    "This code will generate a scatter plot where each point represents a data point in your DataFrame, with \"At Bat\" on the x-axis and \"Runs\" on the y-axis. The alpha parameter controls the transparency of the points, allowing you to see overlapping points more clearly.\n",
    "\n",
    "\n",
    "\n",
    "\n",
    "\n",
    "\n"
   ]
  },
  {
   "cell_type": "markdown",
   "id": "f9b501f6",
   "metadata": {},
   "source": [
    "# Comment :"
   ]
  },
  {
   "cell_type": "markdown",
   "id": "0bd72840",
   "metadata": {},
   "source": [
    "We doesnot get any benchmark range for at bats from here. So it is questionable things that how much At bats matter to winning statstics. Atleast we get here that At Bat and Run Scored has positive linear relationship, which means that more Run Scroed naturally lead to more at bats."
   ]
  },
  {
   "cell_type": "code",
   "execution_count": null,
   "id": "96ddc572",
   "metadata": {},
   "outputs": [],
   "source": [
    "# Checking the relation between two variables\n",
    "sns.set_palette('Set1')\n",
    "plt.figure(figsize=[10,6])\n",
    "plt.title('Runs Scored Vs Strike Outs',fontsize =20)\n",
    "sns.scatterplot(df['Runs Scored'],df['Strike Outs'],hue=df['Wins'])\n",
    "plt.xlabel('Runs Scored',fontsize =16)\n",
    "plt.ylabel('Strike Outs',fontsize =16)"
   ]
  },
  {
   "cell_type": "markdown",
   "id": "09637f83",
   "metadata": {},
   "source": [
    "# Runs Scored Vs Strike Outs"
   ]
  },
  {
   "cell_type": "markdown",
   "id": "eb51101a",
   "metadata": {},
   "source": [
    "\n",
    "To visualize the relationship between \"Runs Scored\" and \"Strike Outs\" in your dataset, you can again use a scatter plot. Here's how you can create the scatter plot:"
   ]
  },
  {
   "cell_type": "code",
   "execution_count": null,
   "id": "a276ccf4",
   "metadata": {},
   "outputs": [],
   "source": [
    "import matplotlib.pyplot as plt\n",
    "\n",
    "plt.figure(figsize=(10, 6))\n",
    "plt.scatter(df['Strike Outs'], df['Runs Scored'], color='red', alpha=0.5)\n",
    "plt.title('Runs Scored vs Strike Outs')\n",
    "plt.xlabel('Strike Outs')\n",
    "plt.ylabel('Runs Scored')\n",
    "plt.grid(True)\n",
    "plt.show()"
   ]
  },
  {
   "cell_type": "markdown",
   "id": "3f1089fe",
   "metadata": {},
   "source": [
    "This code will generate a scatter plot where each point represents a data point in your DataFrame, with \"Strike Outs\" on the x-axis and \"Runs Scored\" on the y-axis. Adjust the color, title, labels, and other parameters as needed to customize the plot according to your preferences."
   ]
  },
  {
   "cell_type": "markdown",
   "id": "d2098953",
   "metadata": {},
   "source": [
    "# Comment :"
   ]
  },
  {
   "cell_type": "markdown",
   "id": "013fe584",
   "metadata": {},
   "source": [
    ".  In simple word strike Outs means batter is out. We can see Strike out opponent team below 700 runs essential for more win.\n",
    ".  Clearly Strikeout below 1200 is like making recipe for losing game. Strikeouts in regular interval not only lead to pressure on opponent in game but also bring break on high run score."
   ]
  },
  {
   "cell_type": "code",
   "execution_count": null,
   "id": "e415be53",
   "metadata": {},
   "outputs": [],
   "source": [
    "# Checking the relation between two variables\n",
    "sns.set_palette('hsv')\n",
    "plt.figure(figsize=[10,6])\n",
    "plt.title('Errors Vs Earned Run Average',fontsize =20)\n",
    "sns.scatterplot(df['Errors'],df['Earned Run Average'],hue=df['Wins'], cmap=('Spectral'))\n",
    "plt.xlabel('Errors',fontsize =16)\n",
    "plt.ylabel('Earned Run Average',fontsize =16"
   ]
  },
  {
   "cell_type": "markdown",
   "id": "5ae998f1",
   "metadata": {},
   "source": [
    "# Errors Vs Earned Run Average"
   ]
  },
  {
   "cell_type": "markdown",
   "id": "eb47b67d",
   "metadata": {},
   "source": [
    "\n",
    "To visualize the relationship between \"Errors\" and \"Earned Run Average\" (ERA) in your dataset, a scatter plot might not be the most suitable choice because \"Errors\" is typically not a continuous variable. Instead, you could use a categorical plot such as a bar plot or a categorical scatter plot. Here's how you can create a bar plot to compare the two variables:"
   ]
  },
  {
   "cell_type": "code",
   "execution_count": null,
   "id": "326cd9c3",
   "metadata": {},
   "outputs": [],
   "source": [
    "import matplotlib.pyplot as plt\n",
    "import seaborn as sns\n",
    "\n",
    "plt.figure(figsize=(10, 6))\n",
    "sns.barplot(x='Errors', y='Earned Run Average', data=df)\n",
    "plt.title('Errors vs Earned Run Average')\n",
    "plt.xlabel('Errors')\n",
    "plt.ylabel('Earned Run Average')\n",
    "plt.xticks(rotation=90)\n",
    "plt.grid(axis='y')\n",
    "plt.show()"
   ]
  },
  {
   "cell_type": "markdown",
   "id": "3beac935",
   "metadata": {},
   "source": [
    "This code will generate a bar plot where each bar represents the mean value of \"Earned Run Average\" for each category of \"Errors\". The x-axis will represent the different categories of \"Errors\", and the y-axis will represent the corresponding \"Earned Run Average\". Adjust the rotation of x-axis labels and other parameters as needed to customize the plot according to your preferences."
   ]
  },
  {
   "cell_type": "markdown",
   "id": "65153fb7",
   "metadata": {},
   "source": [
    "# Comment -"
   ]
  },
  {
   "cell_type": "markdown",
   "id": "760a496e",
   "metadata": {},
   "source": [
    "Same result about ERA we got here as we get in Violin Plot.\n",
    "Keeping ERA below 3.5 or as much as low by Pitcher means sure win. By keeping low ERA pitcher saves run for his team.\n",
    "Another things we can see in above scatter plot is that Minimum error means maximum wins. Keeping Errors below number 90 can be held as benchmark."
   ]
  },
  {
   "cell_type": "code",
   "execution_count": null,
   "id": "da496433",
   "metadata": {},
   "outputs": [],
   "source": [
    "# Checking the relation between two variables\n",
    "sns.set_palette('hsv')\n",
    "plt.figure(figsize=[10,6])\n",
    "plt.title('At Bat Vs Base on Balls',fontsize =20)\n",
    "sns.scatterplot(df['At Bat'],df['Earned Run Average'],hue=df['Errors'], cmap=('Spectral'))\n",
    "plt.xlabel('At Bat',fontsize =16)\n",
    "plt.ylabel('Earned Run Average',fontsize =16)"
   ]
  },
  {
   "cell_type": "markdown",
   "id": "adce86f4",
   "metadata": {},
   "source": [
    "# At Bat Vs Base On Balls"
   ]
  },
  {
   "cell_type": "markdown",
   "id": "0d245803",
   "metadata": {},
   "source": [
    "To visualize the relationship between \"At Bat\" and \"Base On Balls\" in your dataset, you can use a scatter plot. Here's how you can create it:\n",
    "\n",
    "\n"
   ]
  },
  {
   "cell_type": "code",
   "execution_count": null,
   "id": "09adf7f1",
   "metadata": {},
   "outputs": [],
   "source": [
    "import matplotlib.pyplot as plt\n",
    "\n",
    "plt.figure(figsize=(10, 6))\n",
    "plt.scatter(df['At Bat'], df['Base On Balls'], color='green', alpha=0.5)\n",
    "plt.title('At Bat vs Base On Balls')\n",
    "plt.xlabel('At Bat')\n",
    "plt.ylabel('Base On Balls')\n",
    "plt.grid(True)\n",
    "plt.show()"
   ]
  },
  {
   "cell_type": "markdown",
   "id": "3101ba3a",
   "metadata": {},
   "source": [
    "This code will generate a scatter plot where each point represents a data point in your DataFrame, with \"At Bat\" on the x-axis and \"Base On Balls\" on the y-axis. Adjust the color, title, labels, and other parameters as needed to customize the plot according to your preferences."
   ]
  },
  {
   "cell_type": "markdown",
   "id": "ace69501",
   "metadata": {},
   "source": [
    "# Comment :"
   ]
  },
  {
   "cell_type": "markdown",
   "id": "a8b0c682",
   "metadata": {},
   "source": [
    "At Bat Vs Base on Balls doesnot give any significant imformation than High ERA means High Errors."
   ]
  },
  {
   "cell_type": "markdown",
   "id": "9a780e00",
   "metadata": {},
   "source": [
    "# Boxplot of Features"
   ]
  },
  {
   "cell_type": "code",
   "execution_count": null,
   "id": "16e680bc",
   "metadata": {},
   "outputs": [],
   "source": [
    "plt.figure(figsize=(18,15), facecolor='white')\n",
    "plotnumber =1\n",
    "for column in df:\n",
    "    if plotnumber <=18:\n",
    "        ax = plt.subplot(6,3,plotnumber)\n",
    "        sns.boxplot(df[column], palette='hsv')\n",
    "        plt.xlabel(column,fontsize=20)\n",
    "    plotnumber+=1\n",
    "plt.tight_layout()\n",
    "plt.show()"
   ]
  },
  {
   "cell_type": "markdown",
   "id": "d00264d3",
   "metadata": {},
   "source": [
    "# Comment :"
   ]
  },
  {
   "cell_type": "raw",
   "id": "d0601b3c",
   "metadata": {},
   "source": [
    ".   There are some outliers present in data. But as data is of Real world MLB 2014, these outliers are valid datapoints.\n",
    ".   Shutouts are rare but completely possible with exceptional performance.\n",
    ".   Run scored has one outliers but as Run is one of the most important parameter, it will be wise to remove corresponding           datpoint.\n",
    ".   Outliers in Errors are totally possible so now need to worry about it."
   ]
  },
  {
   "cell_type": "code",
   "execution_count": null,
   "id": "15d7804d",
   "metadata": {},
   "outputs": [],
   "source": [
    "plt.figure(figsize=(18,12))\n",
    "sns.barplot(x=\"Wins\", y=\"Base on Balls\", data=df,palette='PiYG')\n",
    "plt.show()\n"
   ]
  },
  {
   "cell_type": "markdown",
   "id": "14e4276e",
   "metadata": {},
   "source": [
    "# Comment :"
   ]
  },
  {
   "cell_type": "markdown",
   "id": "d906ca81",
   "metadata": {},
   "source": [
    ".  Base on ball is contribution from pitcher to batter for winning. In simple word it is like Wide or No Ball in Cricket.\n",
    ".  We can see that base on ball above 400 really contribute in Wins in team."
   ]
  },
  {
   "cell_type": "code",
   "execution_count": null,
   "id": "af252443",
   "metadata": {},
   "outputs": [],
   "source": [
    "plt.figure(figsize=(18,12))\n",
    "sns.barplot(x=\"Wins\", y=\"Runs Scored\", data=df,palette='PiYG')\n",
    "plt.show()"
   ]
  },
  {
   "cell_type": "markdown",
   "id": "b8bc1df3",
   "metadata": {},
   "source": [
    "# Comment:"
   ]
  },
  {
   "cell_type": "markdown",
   "id": "1c4decaa",
   "metadata": {},
   "source": [
    "Run Scored above 600 is benchmark for wining in any scenerio"
   ]
  },
  {
   "cell_type": "code",
   "execution_count": null,
   "id": "764a0a26",
   "metadata": {},
   "outputs": [],
   "source": [
    "plt.figure(figsize=(18,12))\n",
    "sns.barplot(x=\"Wins\", y=\"Runs Average\", data=df,palette='gist_earth')\n",
    "plt.title('Bar plot of Wins Vs Run Average', fontsize =20)\n",
    "plt.show()"
   ]
  },
  {
   "cell_type": "markdown",
   "id": "265ce07d",
   "metadata": {},
   "source": [
    "# Bar plot Of Wins Vs Run Average"
   ]
  },
  {
   "cell_type": "markdown",
   "id": "36720137",
   "metadata": {},
   "source": [
    "To visualize the relationship between \"Wins\" and \"Run Average\" in your dataset, you can create a bar plot. Since \"Wins\" is typically a discrete variable, a bar plot is a suitable choice. Here's how you can create it:"
   ]
  },
  {
   "cell_type": "code",
   "execution_count": null,
   "id": "5b5ade93",
   "metadata": {},
   "outputs": [],
   "source": [
    "import matplotlib.pyplot as plt\n",
    "import seaborn as sns\n",
    "\n",
    "plt.figure(figsize=(10, 6))\n",
    "sns.barplot(x='Wins', y='Run Average', data=df)\n",
    "plt.title('Wins vs Run Average')\n",
    "plt.xlabel('Wins')\n",
    "plt.ylabel('Run Average')\n",
    "plt.grid(axis='y')\n",
    "plt.show()"
   ]
  },
  {
   "cell_type": "markdown",
   "id": "f26794b8",
   "metadata": {},
   "source": [
    "This code will generate a bar plot where each bar represents the mean value of \"Run Average\" for each category of \"Wins\". The x-axis will represent the different categories of \"Wins\", and the y-axis will represent the corresponding mean \"Run Average\". Adjust the title, labels, and other parameters as needed to customize the plot according to your preferences."
   ]
  },
  {
   "cell_type": "markdown",
   "id": "162604ea",
   "metadata": {},
   "source": [
    "# Comment :"
   ]
  },
  {
   "cell_type": "markdown",
   "id": "ddabbffb",
   "metadata": {},
   "source": [
    ".  Here comes interesting plot, we can see Run Average decrease with increase in number of wins. But why this trend if more runs means directly increase in chance of winning."
   ]
  },
  {
   "cell_type": "markdown",
   "id": "6859b0d4",
   "metadata": {},
   "source": [
    ".  More Run Average gives advantage to hitter and here as wins are high even at low run this clearly means that perforamance of pitcher is better than hitter i.e. pitcher is knocking out hitter at low run score. This must be reflected in any pitcher side stastical parameter like Strike outs, Earned Run or Earned Run Average."
   ]
  },
  {
   "cell_type": "markdown",
   "id": "d700cd50",
   "metadata": {},
   "source": [
    "# Lets try find answer of this millon dollor puzzle by diving more into relation of Wins with parameters like ERA, strikeouts."
   ]
  },
  {
   "cell_type": "code",
   "execution_count": null,
   "id": "cb285588",
   "metadata": {},
   "outputs": [],
   "source": [
    "plt.figure(figsize=(18,12))\n",
    "sns.barplot(x=\"Wins\", y=\"Earned Run Average\", data=df,palette='spring')\n",
    "plt.xlabel('Wins',fontsize =16)\n",
    "plt.ylabel('Earned Run Average',fontsize =16)\n",
    "plt.show()"
   ]
  },
  {
   "cell_type": "markdown",
   "id": "e00fdb81",
   "metadata": {},
   "source": [
    "# Earned Runs Average"
   ]
  },
  {
   "cell_type": "markdown",
   "id": "5fc69092",
   "metadata": {},
   "source": [
    "To visualize the distribution or summary statistics of the \"Earned Runs Average\" (ERA) column in your dataset, you can use various types of plots. Here are a couple of options:"
   ]
  },
  {
   "cell_type": "markdown",
   "id": "e10de78b",
   "metadata": {},
   "source": [
    "1   Histogram: This will show the distribution of ERA values."
   ]
  },
  {
   "cell_type": "code",
   "execution_count": null,
   "id": "554ae6de",
   "metadata": {},
   "outputs": [],
   "source": [
    "import matplotlib.pyplot as plt\n",
    "\n",
    "plt.figure(figsize=(10, 6))\n",
    "plt.hist(df['Earned Runs Average'], bins=20, color='skyblue', edgecolor='black')\n",
    "plt.title('Distribution of Earned Runs Average')\n",
    "plt.xlabel('Earned Runs Average')\n",
    "plt.ylabel('Frequency')\n",
    "plt.grid(True)\n",
    "plt.show()"
   ]
  },
  {
   "cell_type": "markdown",
   "id": "22f3803b",
   "metadata": {},
   "source": [
    "2   Boxplot: This will provide a summary of the central tendency and spread of ERA values, including potential outliers."
   ]
  },
  {
   "cell_type": "code",
   "execution_count": null,
   "id": "5109b8f1",
   "metadata": {},
   "outputs": [],
   "source": [
    "import seaborn as sns\n",
    "\n",
    "plt.figure(figsize=(10, 6))\n",
    "sns.boxplot(x=df['Earned Runs Average'], color='lightgreen')\n",
    "plt.title('Boxplot of Earned Runs Average')\n",
    "plt.xlabel('Earned Runs Average')\n",
    "plt.grid(True, axis='x')\n",
    "plt.show()"
   ]
  },
  {
   "cell_type": "markdown",
   "id": "f479b334",
   "metadata": {},
   "source": [
    "# Comment :"
   ]
  },
  {
   "cell_type": "markdown",
   "id": "8e9741e1",
   "metadata": {},
   "source": [
    "And here we got what we looking for.As we thought there must be atleast one pitcher parameter where this decreasing trend must be reflected.\n",
    "ERA is low for maximum wins. Low ERA by pitcher clearly means that pitcher is giving less chance given to batter to score run.\n",
    "We already come to conclusion of keeping ERA less than 3.5 in previous result. This plot also support that story.\n",
    "But this also indicate that ERA and Runs Average score are bound to related with each other in linear relationship (may be positive or negtive).\n",
    "Another things here is that Earned Run and Wins must have negative relationship. we will check it in further investigation."
   ]
  },
  {
   "cell_type": "markdown",
   "id": "b5f540eb",
   "metadata": {},
   "source": [
    "# Let check it through strip plot between Runs Average and Earned Run Average"
   ]
  },
  {
   "cell_type": "code",
   "execution_count": null,
   "id": "71f209c8",
   "metadata": {},
   "outputs": [],
   "source": [
    "# Checking the relation between two variables\n",
    "sns.set_palette('Set1')\n",
    "plt.figure(figsize=[16,8])\n",
    "plt.title('Comparison between Run Average and Earned Run Average', fontsize =20)\n",
    "sns.stripplot(df['Runs Average'],df['Earned Run Average'],hue=df['Wins'])\n",
    "plt.xlabel('Runs Average',fontsize =16)\n",
    "plt.ylabel(\"Earned Run Average\",fontsize =16)"
   ]
  },
  {
   "cell_type": "markdown",
   "id": "a29370c5",
   "metadata": {},
   "source": [
    "# comparison betwwen run  Average and Earned Run Average "
   ]
  },
  {
   "cell_type": "markdown",
   "id": "9684cc81",
   "metadata": {},
   "source": [
    "To compare the \"Run Average\" and \"Earned Run Average\" in your dataset, you can create a comparative chart such as a bar chart or a box plot. Here's how you can do it using a box plot:"
   ]
  },
  {
   "cell_type": "code",
   "execution_count": null,
   "id": "444ff2ab",
   "metadata": {},
   "outputs": [],
   "source": [
    "import seaborn as sns\n",
    "import matplotlib.pyplot as plt\n",
    "\n",
    "plt.figure(figsize=(10, 6))\n",
    "sns.boxplot(data=df[['Run Average', 'Earned Run Average']])\n",
    "plt.title('Comparison of Run Average and Earned Run Average')\n",
    "plt.ylabel('Average')\n",
    "plt.xlabel('Statistic')\n",
    "plt.xticks(ticks=[0, 1], labels=['Run Average', 'Earned Run Average'])\n",
    "plt.show()"
   ]
  },
  {
   "cell_type": "markdown",
   "id": "886a8da5",
   "metadata": {},
   "source": [
    "This code will create a box plot showing the distribution of \"Run Average\" and \"Earned Run Average\" side by side, allowing for a visual comparison of the two statistics. Each box represents the interquartile range (IQR) of the data, with the median indicated by the line inside the box. The whiskers extend to 1.5 times the IQR, and any points beyond that are considered outliers.\n",
    "\n",
    "Alternatively, you can also create a bar chart to compare the means or medians of the two statistics:"
   ]
  },
  {
   "cell_type": "code",
   "execution_count": null,
   "id": "d8102186",
   "metadata": {},
   "outputs": [],
   "source": [
    "plt.figure(figsize=(10, 6))\n",
    "sns.barplot(data=df[['Run Average', 'Earned Run Average']], ci='sd')\n",
    "plt.title('Comparison of Run Average and Earned Run Average')\n",
    "plt.ylabel('Average')\n",
    "plt.xlabel('Statistic')\n",
    "plt.xticks(ticks=[0, 1], labels=['Run Average', 'Earned Run Average'])\n",
    "plt.show()"
   ]
  },
  {
   "cell_type": "markdown",
   "id": "1b2424cb",
   "metadata": {},
   "source": [
    "# Comment :"
   ]
  },
  {
   "cell_type": "markdown",
   "id": "80a455c6",
   "metadata": {},
   "source": [
    "Here we got what we suspect in previous plot. ERA and RA hold linear relationship."
   ]
  },
  {
   "cell_type": "markdown",
   "id": "f3f97ddf",
   "metadata": {},
   "source": [
    "Now let check strikeout show same behavior as ERA with respect to Runs Average."
   ]
  },
  {
   "cell_type": "code",
   "execution_count": null,
   "id": "71388ead",
   "metadata": {},
   "outputs": [],
   "source": [
    "# Checking the relation between two variables\n",
    "sns.set_palette('Set1')\n",
    "plt.figure(figsize=[16,8])\n",
    "plt.title('Comparison between Run Average and Earned Run Average', fontsize =20)\n",
    "sns.stripplot(df['Runs Average'],df['Strike Outs'],hue=df['Wins'])\n",
    "plt.xlabel('Runs Average',fontsize =16)\n",
    "plt.ylabel(\"Strike Outs\",fontsize =16)"
   ]
  },
  {
   "cell_type": "markdown",
   "id": "40678928",
   "metadata": {},
   "source": [
    "# Comment :"
   ]
  },
  {
   "cell_type": "markdown",
   "id": "65525d0d",
   "metadata": {},
   "source": [
    "Strike outs are randomly placed giving not much any significant insights. Most probably strikeouts doesnot matter."
   ]
  },
  {
   "cell_type": "markdown",
   "id": "ad5bda0b",
   "metadata": {},
   "source": [
    "# There is one outlier in Runs score, lets check that entry"
   ]
  },
  {
   "cell_type": "code",
   "execution_count": null,
   "id": "1bcbaebd",
   "metadata": {},
   "outputs": [],
   "source": [
    "df['Runs Scored'].max()"
   ]
  },
  {
   "cell_type": "code",
   "execution_count": null,
   "id": "889183be",
   "metadata": {},
   "outputs": [],
   "source": [
    "891"
   ]
  },
  {
   "cell_type": "code",
   "execution_count": null,
   "id": "b63e5b3b",
   "metadata": {},
   "outputs": [],
   "source": [
    "df.loc[df['Runs Scored']==891]"
   ]
  },
  {
   "cell_type": "code",
   "execution_count": null,
   "id": "895eb1aa",
   "metadata": {},
   "outputs": [],
   "source": [
    "    Wins  Runs Scored  At Bat   Hits   Doubles  Triples   Home Runs  Base on Balls  Strike Outs   Stolen Base  Runs Average  Earned Runs  Earned Run Average   Complete Game   Shut Outs   Saves   Errors\n",
    "5   93    891          5509     1480   308      17        232        570            1151          88           670           609          3.8                   7              10          34       88"
   ]
  },
  {
   "cell_type": "markdown",
   "id": "833b160d",
   "metadata": {},
   "source": [
    "It seem like highest Doubles, Homeruns and base ball also belong to this entry. Let cross check"
   ]
  },
  {
   "cell_type": "code",
   "execution_count": null,
   "id": "5eba571f",
   "metadata": {},
   "outputs": [],
   "source": [
    "df['Home Runs'].max(),df['Base on Balls'].max(),df['Doubles'].max()"
   ]
  },
  {
   "cell_type": "code",
   "execution_count": null,
   "id": "799ac1e9",
   "metadata": {},
   "outputs": [],
   "source": [
    "(232, 570, 308)"
   ]
  },
  {
   "cell_type": "markdown",
   "id": "2babf548",
   "metadata": {},
   "source": [
    "Here we got what we suspect."
   ]
  },
  {
   "cell_type": "markdown",
   "id": "103ce02a",
   "metadata": {},
   "source": [
    "In one of the previous result we suspect that Earned Run/Earned Run Average and Wins must have negative relationship, let check by looking at jointplot."
   ]
  },
  {
   "cell_type": "code",
   "execution_count": null,
   "id": "2aa2b09b",
   "metadata": {},
   "outputs": [],
   "source": [
    "sns.jointplot(x=\"Earned Runs\", y=\"Wins\", data=df, color=\"blue\",palette=\"Set1\")"
   ]
  },
  {
   "cell_type": "markdown",
   "id": "e881b2b0",
   "metadata": {},
   "source": [
    "Jointplot shows same story about Earned Run/Earned Run Average and Wins having linear negative relationship"
   ]
  },
  {
   "cell_type": "code",
   "execution_count": null,
   "id": "d289102c",
   "metadata": {},
   "outputs": [],
   "source": [
    "Let check relationship between saves and wins"
   ]
  },
  {
   "cell_type": "code",
   "execution_count": null,
   "id": "e8af870f",
   "metadata": {},
   "outputs": [],
   "source": [
    "plt.figure(figsize=(10,10))\n",
    "sns.jointplot(x=\"Saves\", y=\"Wins\", data=df, color=\"purple\")"
   ]
  },
  {
   "cell_type": "markdown",
   "id": "5019aa25",
   "metadata": {},
   "source": [
    "To visualize the relationship between \"saves\" and \"wins\" in your dataset, you can use a scatter plot. Scatter plots are effective for displaying the relationship between two continuous variables. Here's how you can create one using seaborn:"
   ]
  },
  {
   "cell_type": "code",
   "execution_count": null,
   "id": "a9892d60",
   "metadata": {},
   "outputs": [],
   "source": [
    "import seaborn as sns\n",
    "import matplotlib.pyplot as plt\n",
    "\n",
    "plt.figure(figsize=(10, 6))\n",
    "sns.scatterplot(data=df, x='saves', y='wins')\n",
    "plt.title('Relationship between Saves and Wins')\n",
    "plt.xlabel('Saves')\n",
    "plt.ylabel('Wins')\n",
    "plt.show()"
   ]
  },
  {
   "cell_type": "markdown",
   "id": "a23ec7cd",
   "metadata": {},
   "source": [
    "This code will create a scatter plot with \"saves\" on the x-axis and \"wins\" on the y-axis, allowing you to visually assess the relationship between these two variables. Each point in the plot represents a data point from your dataset, showing how \"saves\" and \"wins\" are distributed and if there's any apparent relationship between them.\n",
    "\n",
    "If you're interested in exploring the strength and direction of the relationship further, you might also consider adding a regression line to the scatter plot using seaborn's regplot() function:"
   ]
  },
  {
   "cell_type": "code",
   "execution_count": null,
   "id": "795e504d",
   "metadata": {},
   "outputs": [],
   "source": [
    "plt.figure(figsize=(10, 6))\n",
    "sns.regplot(data=df, x='saves', y='wins')\n",
    "plt.title('Relationship between Saves and Wins')\n",
    "plt.xlabel('Saves')\n",
    "plt.ylabel('Wins')\n",
    "plt.show()"
   ]
  },
  {
   "cell_type": "markdown",
   "id": "e504e193",
   "metadata": {},
   "source": [
    "This will add a linear regression line to the scatter plot, allowing you to see the overall trend between \"saves\" and \"wins\" more clearly."
   ]
  },
  {
   "cell_type": "markdown",
   "id": "fab8705d",
   "metadata": {},
   "source": [
    "# Comment :"
   ]
  },
  {
   "cell_type": "raw",
   "id": "541c3965",
   "metadata": {},
   "source": [
    ".  A save is rewarded to the relief pitcher who finishes a game for the winning team under certain circumstances\n",
    ".  Here with increase in the number of save increases the number of wins."
   ]
  },
  {
   "cell_type": "code",
   "execution_count": null,
   "id": "6ef60097",
   "metadata": {},
   "outputs": [],
   "source": [
    "sns.pairplot(df, hue=\"Wins\")"
   ]
  },
  {
   "cell_type": "code",
   "execution_count": null,
   "id": "cd1b097e",
   "metadata": {},
   "outputs": [],
   "source": [
    "plt.figure(figsize=(17,12))\n",
    "sns.heatmap(df.corr(), vmin=-1, vmax=1, annot=True, square=True, fmt='0.3f', \n",
    "            annot_kws={'size':10}, cmap=\"gist_stern\", mask=upper_triangle)\n",
    "plt.xticks(fontsize=12)\n",
    "plt.yticks(fontsize=12)\n",
    "plt.show()"
   ]
  },
  {
   "cell_type": "markdown",
   "id": "637bd6ee",
   "metadata": {},
   "source": [
    "# Outliers Detection and Removal"
   ]
  },
  {
   "cell_type": "code",
   "execution_count": null,
   "id": "2789e5ce",
   "metadata": {},
   "outputs": [],
   "source": [
    "from scipy.stats import zscore\n",
    "z = np.abs(zscore(df))\n",
    "threshold = 3\n",
    "df1 = df[(z<3).all(axis = 1)]"
   ]
  },
  {
   "cell_type": "code",
   "execution_count": null,
   "id": "300ee16b",
   "metadata": {},
   "outputs": [],
   "source": [
    "print(\"\\033[1m\"+'Shape of dataset after removing outliers :'+\"\\033[0m\",df1.shape)"
   ]
  },
  {
   "cell_type": "markdown",
   "id": "2e45c85f",
   "metadata": {},
   "source": [
    "Shape of dataset after removing outliers : (29, 17)"
   ]
  },
  {
   "cell_type": "markdown",
   "id": "218a42aa",
   "metadata": {},
   "source": [
    "Data Loss"
   ]
  },
  {
   "cell_type": "code",
   "execution_count": null,
   "id": "12bf67cc",
   "metadata": {},
   "outputs": [],
   "source": [
    "print(\"\\033[1m\"+'Percentage Data Loss :'+\"\\033[0m\",((30-29)/30)*100,'%')"
   ]
  },
  {
   "cell_type": "markdown",
   "id": "a32dbe82",
   "metadata": {},
   "source": [
    "Percentage Data Loss : 3.3333333333333335 %"
   ]
  },
  {
   "cell_type": "markdown",
   "id": "8290ad52",
   "metadata": {},
   "source": [
    "# Feature selection and Engineering"
   ]
  },
  {
   "cell_type": "markdown",
   "id": "794a76ff",
   "metadata": {},
   "source": [
    "# 1. Skewness of features"
   ]
  },
  {
   "cell_type": "code",
   "execution_count": null,
   "id": "ba91215e",
   "metadata": {},
   "outputs": [],
   "source": [
    "df1.skew()"
   ]
  },
  {
   "cell_type": "code",
   "execution_count": null,
   "id": "0d24fc35",
   "metadata": {},
   "outputs": [],
   "source": [
    "Wins                  0.119013\n",
    "Runs Scored          -0.215364\n",
    "At Bat                0.169573\n",
    "Hits                  0.783772\n",
    "Doubles              -0.335304\n",
    "Triples               0.090124\n",
    "Home Runs             0.450862\n",
    "Base on Balls         0.151193\n",
    "Strike Outs          -0.233815\n",
    "Stolen Base           0.494966\n",
    "Runs Average          0.018155\n",
    "Earned Runs           0.018461\n",
    "Earned Run Average    0.016693\n",
    "Complete Game         0.854980\n",
    "Shut Outs             0.526943\n",
    "Saves                 0.627480\n",
    "Errors                0.840271\n",
    "dtype: float64"
   ]
  },
  {
   "cell_type": "markdown",
   "id": "e2a9517e",
   "metadata": {},
   "source": [
    "# Comment -"
   ]
  },
  {
   "cell_type": "raw",
   "id": "2790ba4b",
   "metadata": {},
   "source": [
    "1  Optimal range for skewness is -0.5 to 0.5.\n",
    "2  Hits, Complete Game, Shuts Outs, Saves, Errors are positively Skewed in nature, need to transform."
   ]
  },
  {
   "cell_type": "markdown",
   "id": "b741e1f2",
   "metadata": {},
   "source": [
    "Transforming positive or right skew data using boxcox transformation"
   ]
  },
  {
   "cell_type": "code",
   "execution_count": null,
   "id": "6fb4e962",
   "metadata": {},
   "outputs": [],
   "source": [
    "from scipy.stats import boxcox"
   ]
  },
  {
   "cell_type": "code",
   "execution_count": null,
   "id": "10f1039f",
   "metadata": {},
   "outputs": [],
   "source": [
    "df1['Hits']=boxcox(df1['Hits'],-2)"
   ]
  },
  {
   "cell_type": "code",
   "execution_count": null,
   "id": "2c561a91",
   "metadata": {},
   "outputs": [],
   "source": [
    "df1['Shut Outs']=boxcox(df1['Shut Outs'],0.5)"
   ]
  },
  {
   "cell_type": "code",
   "execution_count": null,
   "id": "fcd7d725",
   "metadata": {},
   "outputs": [],
   "source": [
    "df1['Saves']=boxcox(df1['Saves'],0.5)"
   ]
  },
  {
   "cell_type": "markdown",
   "id": "264f776c",
   "metadata": {},
   "source": [
    "Other feature not able transform by Boxcox Method as they showing data must be positive. So others columns are transfrom using yeo-johnson method"
   ]
  },
  {
   "cell_type": "code",
   "execution_count": null,
   "id": "b65a1c50",
   "metadata": {},
   "outputs": [],
   "source": [
    "from sklearn.preprocessing import PowerTransformer\n",
    "from sklearn.compose import ColumnTransformer"
   ]
  },
  {
   "cell_type": "code",
   "execution_count": null,
   "id": "237a847c",
   "metadata": {},
   "outputs": [],
   "source": [
    "EC=['Errors','Complete Game']\n",
    "ds =df1[EC].copy()"
   ]
  },
  {
   "cell_type": "code",
   "execution_count": null,
   "id": "366428d6",
   "metadata": {},
   "outputs": [],
   "source": [
    "column_trans =ColumnTransformer(\n",
    "    [  ('Errors',PowerTransformer(method='yeo-johnson',standardize=True),['Errors']),\n",
    "      ('Complete Game',PowerTransformer(method='yeo-johnson',standardize=True),['Complete Game'])])\n",
    "transformed_yeojohnson =column_trans.fit_transform(df1)   \n",
    "new_cols=['Errors','Complete Game']\n",
    "dataset=pd.DataFrame(transformed_yeojohnson,columns=new_cols) #to convert numpy array back into dataframe\n",
    "pd.concat([dataset],axis=1)\n",
    "dataset.head()"
   ]
  },
  {
   "cell_type": "code",
   "execution_count": null,
   "id": "25a4fd44",
   "metadata": {},
   "outputs": [],
   "source": [
    "     Errors       Complete Game\n",
    "0    -0.348265    -0.307098\n",
    "1    -0.540820    -0.307098\n",
    "2    -1.326125     2.011315\n",
    "3     0.650818     1.264463\n",
    "4    -0.540820     1.264463"
   ]
  },
  {
   "cell_type": "code",
   "execution_count": null,
   "id": "fb36133d",
   "metadata": {},
   "outputs": [],
   "source": [
    "# reseting index and mergeing transform data\n",
    "df1.reset_index(drop=True, inplace=True)\n",
    "dataset.index=df1.index\n",
    "df1[EC]=dataset[EC]"
   ]
  },
  {
   "cell_type": "markdown",
   "id": "aacfbb0f",
   "metadata": {},
   "source": [
    "# Skewness after transforming features"
   ]
  },
  {
   "cell_type": "code",
   "execution_count": null,
   "id": "3ffba714",
   "metadata": {},
   "outputs": [],
   "source": [
    "df1.skew()"
   ]
  },
  {
   "cell_type": "code",
   "execution_count": null,
   "id": "5e61eed2",
   "metadata": {},
   "outputs": [],
   "source": [
    "Wins                  0.119013\n",
    "Runs Scored          -0.215364\n",
    "At Bat                0.169573\n",
    "Hits                  0.000000\n",
    "Doubles              -0.335304\n",
    "Triples               0.090124\n",
    "Home Runs             0.450862\n",
    "Base on Balls         0.151193\n",
    "Strike Outs          -0.233815\n",
    "Stolen Base           0.494966\n",
    "Runs Average          0.018155\n",
    "Earned Runs           0.018461\n",
    "Earned Run Average    0.016693\n",
    "Complete Game        -0.045947\n",
    "Shut Outs            -0.085802\n",
    "Saves                 0.370280\n",
    "Errors                0.065585\n",
    "dtype: float64"
   ]
  },
  {
   "cell_type": "markdown",
   "id": "572b81ec",
   "metadata": {},
   "source": [
    "All features skewness is now transform within permissible limit of -0.5 to 0.5 as shown above"
   ]
  },
  {
   "cell_type": "markdown",
   "id": "c6696cae",
   "metadata": {},
   "source": [
    "# Corrleation"
   ]
  },
  {
   "cell_type": "code",
   "execution_count": null,
   "id": "2a46925b",
   "metadata": {},
   "outputs": [],
   "source": [
    "df1.corr()"
   ]
  },
  {
   "cell_type": "code",
   "execution_count": null,
   "id": "e8c90d74",
   "metadata": {},
   "outputs": [],
   "source": [
    "                    Wins        Runs Scored   At Bat      Hits        Doubles     Triples     Home Runs    Base on Balls    Strike Outs   Stolen Base   Runs Average   Earned Runs   Earned Run Average   Complete Game     Shut Outs    Saves        Errors\n",
    "Wins                 1.000000   0.390451     -0.085780   -0.025885    0.384886   -0.206737    0.245697     0.447513         0.156469     -0.169503     -0.823176      -0.815308     -0.826952              0.007696          0.477949    0.754886    -0.079633\n",
    "Runs Scored          0.390451   1.000000      0.438022    0.429083    0.469293    0.134204    0.586894     0.258450         0.081158      0.075323     -0.013858       0.007727     -0.009122              0.155122         -0.119300    0.071589     0.039865\n",
    "At Bat              -0.085780   0.438022      1.000000    0.771485    0.490752    0.445604   -0.064653    -0.137850        -0.111243      0.373674      0.315499       0.309146      0.254872             -0.059648         -0.193987   -0.127766     0.332002\n",
    "Hits                -0.025885   0.429083      0.771485    1.000000    0.525668    0.574467   -0.219890    -0.220426        -0.375825      0.424369      0.241583       0.278600      0.254635              0.070020         -0.134500   -0.093443    -0.012712\n",
    "Doubles              0.384886   0.469293      0.490752    0.525668    1.000000    0.342419   -0.098695     0.211243        -0.096772      0.194308     -0.215196      -0.224993     -0.248212              0.227220          0.088345    0.258675     0.152541\n",
    "Triples             -0.206737   0.134204      0.445604    0.574467    0.342419    1.000000   -0.369299    -0.404852        -0.196586      0.483818      0.312750       0.333731      0.325883             -0.004496         -0.067667   -0.236230     0.080498\n",
    "Home Runs            0.245697   0.586894     -0.064653   -0.219890   -0.098695   -0.369299    1.000000     0.336814         0.479914     -0.166072     -0.092586      -0.062094     -0.070756              0.118286         -0.030256    0.084263    -0.165883\n",
    "Base on Balls        0.447513   0.258450     -0.137850   -0.220426    0.211243   -0.404852    0.336814     1.000000         0.315566     -0.117622     -0.425381      -0.455832     -0.465794              0.445335          0.434799    0.197177    -0.056106\n",
    "Strike Outs          0.156469   0.081158     -0.111243   -0.375825   -0.096772   -0.196586    0.479914     0.315566         1.000000      0.038188     -0.140570      -0.177655     -0.195362             -0.063129          0.200067    0.105667     0.164817\n",
    "Stolen Base         -0.169503   0.075323      0.373674    0.424369    0.194308    0.483818   -0.166072    -0.117622         0.038188      1.000000      0.134315       0.146243      0.128848             -0.040524         -0.098740   -0.187605     0.070527\n",
    "Runs Average        -0.823176  -0.013858      0.315499    0.241583   -0.215196    0.312750   -0.092586    -0.425381        -0.140570      0.134315      1.000000       0.991286      0.986781              0.062434         -0.641778   -0.637543     0.231036\n",
    "Earned Runs         -0.815308   0.007727      0.309146    0.278600   -0.224993    0.333731   -0.062094    -0.455832        -0.177655      0.146243      0.991286       1.000000      0.997261              0.067069         -0.639589   -0.616471     0.165556\n",
    "Earned Run Average  -0.826952  -0.009122      0.254872    0.254635   -0.248212    0.325883   -0.070756    -0.465794        -0.195362      0.128848      0.986781       0.997261      1.000000              0.073959         -0.639984   -0.632172     0.138692\n",
    "Complete Game        0.007696   0.155122     -0.059648    0.070020    0.227220   -0.004496    0.118284     0.445335        -0.063129     -0.040524      0.062434       0.067069      0.073959              1.000000          0.203886   -0.312949    -0.070484\n",
    "Shut Outs            0.477949  -0.119300     -0.193987   -0.134500    0.088345   -0.067667   -0.030256     0.434799         0.200067     -0.098740     -0.641778      -0.639589     -0.639984              0.203886          1.000000    0.206222    -0.206473\n",
    "Saves                0.754886   0.071589     -0.127766   -0.093443    0.258675   -0.236230    0.084263     0.197177         0.105667     -0.187605     -0.637543      -0.616471     -0.632172             -0.312949          0.206222    1.000000    -0.004960\n",
    "Errors              -0.079633   0.039865      0.332002   -0.012712    0.152541    0.080498   -0.165883    -0.056106         0.164817      0.070527      0.231036       0.165556      0.138692             -0.070484         -0.206473   -0.004960     1.000000"
   ]
  },
  {
   "cell_type": "code",
   "execution_count": null,
   "id": "8a37bf21",
   "metadata": {},
   "outputs": [],
   "source": [
    "upper_triangle = np.triu(df.corr())\n",
    "plt.figure(figsize=(20,15))\n",
    "sns.heatmap(df1.corr(), vmin=-1, vmax=1, annot=True, square=True, fmt='0.3f', \n",
    "            annot_kws={'size':10}, cmap=\"gist_stern\", mask=upper_triangle)\n",
    "plt.xticks(fontsize=12)\n",
    "plt.yticks(fontsize=12)\n",
    "plt.show()"
   ]
  },
  {
   "cell_type": "code",
   "execution_count": null,
   "id": "53a8a53f",
   "metadata": {},
   "outputs": [],
   "source": [
    "plt.figure(figsize = (18,6))\n",
    "df1.corr()['Wins'].drop(['Wins']).plot(kind='bar',color = 'c')\n",
    "plt.xlabel('Features',fontsize=15)\n",
    "plt.ylabel('Wins',fontsize=15)\n",
    "plt.title('Correlation of features with Target Variable win',fontsize = 18)\n",
    "plt.show()"
   ]
  },
  {
   "cell_type": "markdown",
   "id": "8fe83947",
   "metadata": {},
   "source": [
    "# Correlation Of features with target Variable win "
   ]
  },
  {
   "cell_type": "markdown",
   "id": "0e955dab",
   "metadata": {},
   "source": [
    "To visualize the correlation between features and the target variable (\"win\"), you can create a correlation matrix heatmap. This heatmap will show the correlation coefficients between each feature and the target variable. Here's how you can do it using seaborn:"
   ]
  },
  {
   "cell_type": "code",
   "execution_count": null,
   "id": "c890e209",
   "metadata": {},
   "outputs": [],
   "source": [
    "import seaborn as sns\n",
    "import matplotlib.pyplot as plt\n",
    "\n",
    "# Calculate the correlation matrix\n",
    "correlation_matrix = df.corr()\n",
    "\n",
    "# Extract the correlation of features with the target variable (\"win\")\n",
    "target_correlation = correlation_matrix['win']\n",
    "\n",
    "# Plot the correlation matrix heatmap\n",
    "plt.figure(figsize=(10, 8))\n",
    "sns.heatmap(target_correlation.to_frame(), cmap='coolwarm', annot=True, cbar=False)\n",
    "plt.title('Correlation of Features with Target Variable (win)')\n",
    "plt.xlabel('Features')\n",
    "plt.ylabel('Target Variable')\n",
    "plt.xticks(rotation=45)\n",
    "plt.show()"
   ]
  },
  {
   "cell_type": "markdown",
   "id": "7eb61f6c",
   "metadata": {},
   "source": [
    "This code will generate a heatmap showing the correlation coefficients between each feature and the target variable (\"win\"). Positive correlations are indicated by warmer colors (closer to red), while negative correlations are indicated by cooler colors (closer to blue). The intensity of the color represents the strength of the correlation.\n",
    "\n",
    "Make sure to replace df with your actual DataFrame containing the features and the target variable. This visualization will help you identify which features are most strongly correlated with the target variable and may be most influential in predicting the outcome.\n",
    "\n",
    "\n",
    "\n",
    "\n",
    "\n",
    "\n"
   ]
  },
  {
   "cell_type": "markdown",
   "id": "433d7cbe",
   "metadata": {},
   "source": [
    "# Comment :"
   ]
  },
  {
   "cell_type": "raw",
   "id": "94e8ffcb",
   "metadata": {},
   "source": [
    ".   Hits, At bats, Complete game and errors are very poorly correlated with target variable.\n",
    ".   Saves, ERA,RA,EA are highly correleated with target variable.\n",
    ".   here is visible multi colinearity between the feature columns \"Earned Runs\", \"Earned Run Average\" and \"Runs Average\". This       need to check."
   ]
  },
  {
   "cell_type": "markdown",
   "id": "fcfc6031",
   "metadata": {},
   "source": [
    "This multicollinearity need to check it with varaiance inflation factor or need to address by use of PCA."
   ]
  },
  {
   "cell_type": "markdown",
   "id": "97623460",
   "metadata": {},
   "source": [
    "# . Checking Multicollinearity between features using variance_inflation_factor"
   ]
  },
  {
   "cell_type": "code",
   "execution_count": null,
   "id": "a412cb74",
   "metadata": {},
   "outputs": [],
   "source": [
    "from statsmodels.stats.outliers_influence import variance_inflation_factor\n",
    "vif= pd.DataFrame()\n",
    "vif['VIF']= [variance_inflation_factor(df2.values,i) for i in range(df1.shape[1])]\n",
    "vif['Features']= df1.columns\n",
    "vif"
   ]
  },
  {
   "cell_type": "code",
   "execution_count": null,
   "id": "adcdd9c4",
   "metadata": {},
   "outputs": [],
   "source": [
    "     VIF            Features\n",
    "0    1164.543214    Wins\n",
    "1    3253.807721    Runs Scored\n",
    "2    5181.779465    At Bat\n",
    "3    4817.334228    Hits\n",
    "4    1157.105781    Doubles\n",
    "5    32.435486      Triples\n",
    "6    309.301103     Home Runs\n",
    "7    302.099558     Base on Balls\n",
    "8    400.292880     Strike Outs\n",
    "9    28.665516      Stolen Base\n",
    "10   18170.014649   Runs Average\n",
    "11   51175.790270   Earned Runs\n",
    "12   23668.747242   Earned Run Average\n",
    "13   10.411616      Complete Game\n",
    "14   33.258426      Shut Outs\n",
    "15   331.282416     Saves\n",
    "16   96.958680      Errors"
   ]
  },
  {
   "cell_type": "markdown",
   "id": "8e3c8bd2",
   "metadata": {},
   "source": [
    "# Comment :"
   ]
  },
  {
   "cell_type": "markdown",
   "id": "9d92b4e9",
   "metadata": {},
   "source": [
    "It is natural to have such high multicollinearity due to following reason :-"
   ]
  },
  {
   "cell_type": "raw",
   "id": "bb27ea82",
   "metadata": {},
   "source": [
    ".   Earned Run Average,Earned Runs,Runs Average are highly correlated with each other.\n",
    ".   At Bat and Hits are 0.771 correlated with each other. But at same time very poor correlated with target variable.\n",
    ".   Another most important reason is data need to scale which we did not scale until now."
   ]
  },
  {
   "cell_type": "markdown",
   "id": "bfd0f4c8",
   "metadata": {},
   "source": [
    "# Strategy to Address Multicollinearity :"
   ]
  },
  {
   "cell_type": "markdown",
   "id": "e53c2b1f",
   "metadata": {},
   "source": [
    "Removing Some of highly correlated features. But this will not work here as most of input features are correlated with each other either moderated or poorly.\n",
    "Another way to address Multicollinerity is to Scaled Data and then apply PCA."
   ]
  },
  {
   "cell_type": "markdown",
   "id": "ee968a3c",
   "metadata": {},
   "source": [
    "We will go by Second way for further investigation."
   ]
  },
  {
   "cell_type": "markdown",
   "id": "4e48c5fc",
   "metadata": {},
   "source": [
    "# Standard Scaling"
   ]
  },
  {
   "cell_type": "code",
   "execution_count": null,
   "id": "6edabd5f",
   "metadata": {},
   "outputs": [],
   "source": [
    "X=df1.drop(columns =['Wins'])\n",
    "Y=df1['Wins']"
   ]
  },
  {
   "cell_type": "code",
   "execution_count": null,
   "id": "1350bdc7",
   "metadata": {},
   "outputs": [],
   "source": [
    "from sklearn.preprocessing import StandardScaler\n",
    "scaler= StandardScaler()\n",
    "X_scale = scaler.fit_transform(X)"
   ]
  },
  {
   "cell_type": "markdown",
   "id": "64dbd55c",
   "metadata": {},
   "source": [
    "# PCA"
   ]
  },
  {
   "cell_type": "code",
   "execution_count": null,
   "id": "a65cca4e",
   "metadata": {},
   "outputs": [],
   "source": [
    "rom sklearn.decomposition import PCA\n",
    "pca = PCA()\n",
    "#plot the graph to find the principal components\n",
    "x_pca = pca.fit_transform(X_scale)\n",
    "plt.figure(figsize=(10,10))\n",
    "plt.plot(np.cumsum(pca.explained_variance_ratio_), 'ro-')\n",
    "plt.xlabel('Number of Components')\n",
    "plt.ylabel('Variance %')\n",
    "plt.title('Explained variance Ratio')\n",
    "plt.grid()"
   ]
  },
  {
   "cell_type": "markdown",
   "id": "2c26395e",
   "metadata": {},
   "source": [
    "# Explained variance Ration"
   ]
  },
  {
   "cell_type": "markdown",
   "id": "4fe459f6",
   "metadata": {},
   "source": [
    "The explained variance ratio is a concept commonly used in Principal Component Analysis (PCA) and other dimensionality reduction techniques. It represents the proportion of the dataset's variance that lies along the axes of each principal component.\n",
    "\n",
    "To compute the explained variance ratio using Python, you can use the explained_variance_ratio_ attribute of a fitted PCA model. Here's a general example of how you can do it:"
   ]
  },
  {
   "cell_type": "code",
   "execution_count": null,
   "id": "c74a0fe2",
   "metadata": {},
   "outputs": [],
   "source": [
    "from sklearn.decomposition import PCA\n",
    "import numpy as np\n",
    "\n",
    "# Assuming X is your data matrix\n",
    "pca = PCA()\n",
    "pca.fit(X)\n",
    "\n",
    "# Get the explained variance ratio\n",
    "explained_variance_ratio = pca.explained_variance_ratio_\n",
    "\n",
    "# Print or visualize the explained variance ratio\n",
    "print(\"Explained Variance Ratio:\", explained_variance_ratio)"
   ]
  },
  {
   "cell_type": "markdown",
   "id": "593c18ba",
   "metadata": {},
   "source": [
    "his code snippet fits a PCA model to your data X and then retrieves the explained variance ratio for each principal component. The explained variance ratio values represent the proportion of variance explained by each principal component. They will be in descending order, indicating the importance of each principal component in capturing the variance of the data.\n",
    "\n",
    "You can use these values to decide how many principal components to retain based on how much variance you want to preserve in your data. Typically, you would aim to retain enough principal components to explain a significant portion of the variance while reducing the dimensionality of your data."
   ]
  },
  {
   "cell_type": "markdown",
   "id": "8566b73f",
   "metadata": {},
   "source": [
    "# Comment -"
   ]
  },
  {
   "cell_type": "markdown",
   "id": "ac3d4ae7",
   "metadata": {},
   "source": [
    "AS per the graph, we can see that 7 principal components attribute for 95% of variation in the data. We shall pick the first 7 components for our prediction"
   ]
  },
  {
   "cell_type": "code",
   "execution_count": null,
   "id": "430fca4e",
   "metadata": {},
   "outputs": [],
   "source": [
    "pca_new = PCA(n_components=7)\n",
    "x_new = pca_new.fit_transform(X_scale)"
   ]
  },
  {
   "cell_type": "code",
   "execution_count": null,
   "id": "1751d9bf",
   "metadata": {},
   "outputs": [],
   "source": [
    "principle_x=pd.DataFrame(x_new,columns=np.arange(7))"
   ]
  },
  {
   "cell_type": "markdown",
   "id": "70a1db0e",
   "metadata": {},
   "source": [
    "# Checking Multicollinearity after applying PCA"
   ]
  },
  {
   "cell_type": "code",
   "execution_count": null,
   "id": "661b614e",
   "metadata": {},
   "outputs": [],
   "source": [
    "from statsmodels.stats.outliers_influence import variance_inflation_factor\n",
    "vif= pd.DataFrame()\n",
    "vif['VIF']= [variance_inflation_factor(principle_x.values,i) for i in range(principle_x.shape[1])]\n",
    "vif['Features']= principle_x.columns\n",
    "vif"
   ]
  },
  {
   "cell_type": "code",
   "execution_count": null,
   "id": "2dac2ef4",
   "metadata": {},
   "outputs": [],
   "source": [
    "       VIF   Features\n",
    "0      1.0   0\n",
    "1      1.0   1\n",
    "2      1.0   2\n",
    "3      1.0   3\n",
    "4      1.0   4\n",
    "5      1.0   5\n",
    "6      1.0   6"
   ]
  },
  {
   "cell_type": "markdown",
   "id": "e500ecec",
   "metadata": {},
   "source": [
    "We can see that Multicollinearity issue is clear now."
   ]
  },
  {
   "cell_type": "markdown",
   "id": "a26ec2de",
   "metadata": {},
   "source": [
    "# Machine Learning Model Building"
   ]
  },
  {
   "cell_type": "code",
   "execution_count": null,
   "id": "1f98dcfe",
   "metadata": {},
   "outputs": [],
   "source": [
    "from sklearn.linear_model import LinearRegression\n",
    "from sklearn.linear_model import LogisticRegression\n",
    "from sklearn.ensemble import RandomForestRegressor\n",
    "from sklearn.tree import DecisionTreeRegressor\n",
    "from sklearn.svm import SVR\n",
    "from sklearn.ensemble import AdaBoostRegressor\n",
    "from sklearn.ensemble import  GradientBoostingRegressor\n",
    "from sklearn.neighbors import KNeighborsRegressor\n",
    "from sklearn.metrics import mean_squared_error, mean_absolute_error\n",
    "from sklearn.metrics import r2_score\n",
    "from sklearn.model_selection import train_test_split\n",
    "from sklearn.linear_model import  Ridge\n",
    "from sklearn.linear_model import  Lasso\n",
    "from xgboost import XGBRegressor"
   ]
  },
  {
   "cell_type": "code",
   "execution_count": null,
   "id": "dca0a459",
   "metadata": {},
   "outputs": [],
   "source": [
    "X_train, X_test, Y_train, Y_test = train_test_split(principle_x, Y, random_state=42, test_size=.3)\n",
    "print('Training feature matrix size:',X_train.shape)\n",
    "print('Training target vector size:',Y_train.shape)\n",
    "print('Test feature matrix size:',X_test.shape)\n",
    "print('Test target vector size:',Y_test.shape)"
   ]
  },
  {
   "cell_type": "raw",
   "id": "e0dc2b07",
   "metadata": {},
   "source": [
    "Training feature matrix size: (20, 7)\n",
    "Training target vector size: (20,)\n",
    "Test feature matrix size: (9, 7)\n",
    "Test target vector size: (9,)"
   ]
  },
  {
   "cell_type": "markdown",
   "id": "985313df",
   "metadata": {},
   "source": [
    "# Finding Best Random state"
   ]
  },
  {
   "cell_type": "code",
   "execution_count": null,
   "id": "8e96d35b",
   "metadata": {},
   "outputs": [],
   "source": [
    "from sklearn.linear_model import LinearRegression\n",
    "from sklearn.metrics import r2_score\n",
    "maxR2_score=0\n",
    "maxRS=0\n",
    "for i in range(1,250):\n",
    "    X_train, X_test, Y_train, Y_test = train_test_split(principle_x, Y, random_state=i, test_size=.25)\n",
    "    lin_reg=LinearRegression()\n",
    "    lin_reg.fit(X_train,Y_train)\n",
    "    y_pred=lin_reg.predict(X_test)\n",
    "    R2=r2_score(Y_test,y_pred)\n",
    "    if R2>maxR2_score:\n",
    "        maxR2_score=R2\n",
    "        maxRS=i\n",
    "print('Best R2 Score is', maxR2_score ,'on Random_state', maxRS)"
   ]
  },
  {
   "cell_type": "markdown",
   "id": "a7ff1487",
   "metadata": {},
   "source": [
    "# Linear Regression : Base model"
   ]
  },
  {
   "cell_type": "code",
   "execution_count": null,
   "id": "58b82cb0",
   "metadata": {},
   "outputs": [],
   "source": [
    "X_train, X_test, Y_train, Y_test = train_test_split(principle_x, Y, random_state=217, test_size=.25)\n",
    "lin_reg=LinearRegression()\n",
    "lin_reg.fit(X_train,Y_train)\n",
    "lin_reg.score(X_train,Y_train)\n",
    "y_pred=lin_reg.predict(X_test)\n",
    "print('\\033[1m'+'Predicted Wins:'+'\\033[0m\\n',y_pred)\n",
    "print('\\n')\n",
    "print('\\033[1m'+'Actual Wins:'+'\\033[0m\\n',Y_test)"
   ]
  },
  {
   "cell_type": "raw",
   "id": "09a71562",
   "metadata": {},
   "source": [
    "Predicted Wins:\n",
    " [84.58605088 96.26198656 82.50274504 63.77883574 88.03714446 70.54986049\n",
    " 82.43803368 72.96772225]\n"
   ]
  },
  {
   "cell_type": "raw",
   "id": "7e228206",
   "metadata": {},
   "source": [
    "Actual Wins:\n",
    " 2     81\n",
    "15    98\n",
    "26    79\n",
    "23    63\n",
    "5     87\n",
    "4     74\n",
    "6     81\n",
    "17    68\n",
    "Name: Wins, dtype: int64"
   ]
  },
  {
   "cell_type": "markdown",
   "id": "e0541d29",
   "metadata": {},
   "source": [
    "# Linear Regression Evaluation Matrix"
   ]
  },
  {
   "cell_type": "code",
   "execution_count": null,
   "id": "870324ae",
   "metadata": {},
   "outputs": [],
   "source": [
    "print('\\033[1m'+' Error :'+'\\033[0m')\n",
    "print('Mean absolute error :', mean_absolute_error(Y_test,y_pred))\n",
    "print('Mean squared error :', mean_squared_error(Y_test,y_pred))\n",
    "print('Root Mean Squared Error:', np.sqrt(mean_squared_error(Y_test,y_pred)))\n",
    "print('\\n')\n",
    "from sklearn.metrics import r2_score\n",
    "print('\\033[1m'+' R2 Score :'+'\\033[0m')\n",
    "print(r2_score(Y_test,y_pred,multioutput='variance_weighted'))"
   ]
  },
  {
   "cell_type": "raw",
   "id": "82dda58b",
   "metadata": {},
   "source": [
    " Error :\n",
    "Mean absolute error : 2.5623356267648196\n",
    "Mean squared error : 8.560199512884235\n",
    "Root Mean Squared Error: 2.925781863516868"
   ]
  },
  {
   "cell_type": "raw",
   "id": "1d5093e0",
   "metadata": {},
   "source": [
    "\n",
    " R2 Score :\n",
    "0.917973833085104"
   ]
  },
  {
   "cell_type": "markdown",
   "id": "385a2949",
   "metadata": {},
   "source": [
    "# Cross validation"
   ]
  },
  {
   "cell_type": "code",
   "execution_count": null,
   "id": "d9d502af",
   "metadata": {},
   "outputs": [],
   "source": [
    "# Cross Validation\n",
    "score = cross_val_score(lin_reg, principle_x, Y, cv =3)\n",
    "print('\\033[1m'+'Cross Validation Score :',lin_reg,\":\"+'\\033[0m\\n')\n",
    "print(\"Mean CV Score :\",score.mean())"
   ]
  },
  {
   "cell_type": "markdown",
   "id": "b29c4859",
   "metadata": {},
   "source": [
    "Cross Validation Score : LinearRegression() :\n",
    "\n",
    "Mean CV Score : 0.3354655028709028"
   ]
  },
  {
   "cell_type": "code",
   "execution_count": null,
   "id": "ececac68",
   "metadata": {},
   "outputs": [],
   "source": [
    "plt.figure(figsize=(6,5))\n",
    "y_pred=lin_reg.predict(X_test)\n",
    "sns.swarmplot(Y_test.round(2), y_pred)\n",
    "print('\\033[1m'+' True Values Vs Predicted Value plot :' +'\\033[0m')\n",
    "plt.xlabel('True Values' , fontsize=15)\n",
    "plt.ylabel('Predictions', fontsize=15)\n",
    "plt.tight_layout()"
   ]
  },
  {
   "cell_type": "markdown",
   "id": "850c5f36",
   "metadata": {},
   "source": [
    "# Finding best n_neighbors for KNN Regressor"
   ]
  },
  {
   "cell_type": "code",
   "execution_count": null,
   "id": "0f968db9",
   "metadata": {},
   "outputs": [],
   "source": [
    "from sklearn.neighbors import KNeighborsRegressor\n",
    "from sklearn import neighbors\n",
    "from math import sqrt\n",
    "from sklearn.metrics import mean_squared_error\n",
    "rmse_val = [] #to store rmse values for different k\n",
    "for K in range(10):\n",
    "    K = K+1\n",
    "    model = neighbors.KNeighborsRegressor(n_neighbors = K)\n",
    "\n",
    "    model.fit(X_train,Y_train)  #fit the model\n",
    "    y_pred=model.predict(X_test) #make prediction on test set\n",
    "    error = sqrt(mean_squared_error(Y_test,y_pred)) #calculate rmse\n",
    "    rmse_val.append(error) #store rmse values\n",
    "    print('RMSE value for k= ' , K , 'is:', error)"
   ]
  },
  {
   "cell_type": "raw",
   "id": "1fe4fa47",
   "metadata": {},
   "source": [
    "RMSE value for k=  1 is: 8.246211251235321\n",
    "RMSE value for k=  2 is: 6.267475568360838\n",
    "RMSE value for k=  3 is: 6.1553951042064625\n",
    "RMSE value for k=  4 is: 5.050525962709231\n",
    "RMSE value for k=  5 is: 5.566866263886713\n",
    "RMSE value for k=  6 is: 5.9956581512513445\n",
    "RMSE value for k=  7 is: 5.569367750728727\n",
    "RMSE value for k=  8 is: 5.896900668995536\n",
    "RMSE value for k=  9 is: 6.370868305259728\n",
    "RMSE value for k=  10 is: 6.42008566921034"
   ]
  },
  {
   "cell_type": "code",
   "execution_count": null,
   "id": "6ce6d3ef",
   "metadata": {},
   "outputs": [],
   "source": [
    "plotting the rmse values against k values -\n",
    "plt.figure(figsize = (8,6))\n",
    "plt.plot(range(10), rmse_val, color='blue', linestyle='dashed', marker='o', markerfacecolor='green', markersize=10)"
   ]
  },
  {
   "cell_type": "markdown",
   "id": "13b908cc",
   "metadata": {},
   "source": [
    "# Comment-"
   ]
  },
  {
   "cell_type": "markdown",
   "id": "a9d52cb9",
   "metadata": {},
   "source": [
    "At k= 4, we get the minimum RMSE value which approximately 5.050525962709231, and shoots up on further increasing the k value. We can safely say that k=4 will give us the best result in this case\n",
    "\n"
   ]
  },
  {
   "cell_type": "markdown",
   "id": "eb76df64",
   "metadata": {},
   "source": [
    "# Applying other Regression Model, Evaluation & Crossvalidation"
   ]
  },
  {
   "cell_type": "code",
   "execution_count": null,
   "id": "d80d9ca1",
   "metadata": {},
   "outputs": [],
   "source": [
    "rf = RandomForestRegressor(n_estimators = 250 ,max_depth=6)\n",
    "svr=SVR(C=1.0, epsilon=0.2, kernel='poly', gamma='auto')\n",
    "dtc = DecisionTreeRegressor(criterion='mse')\n",
    "adb=AdaBoostRegressor(learning_rate=0.1)\n",
    "gradb=GradientBoostingRegressor( max_depth=6,learning_rate=0.1)\n",
    "knn=KNeighborsRegressor(n_neighbors=4,algorithm='kd_tree')\n",
    "ls= Lasso(alpha=1e-2, normalize=True, max_iter=1e5)\n",
    "rd=Ridge(alpha=1e-2, normalize=True)\n",
    "xgb=XGBRegressor()\n",
    "model = [rf,ls,rd,svr,dtc,adb,gradb,knn,xgb]\n",
    "\n",
    "for m in model:\n",
    "    m.fit(X_train,Y_train)\n",
    "    m.score(X_train,Y_train)\n",
    "    y_pred = m.predict(X_test)\n",
    "    print('\\n')                                        \n",
    "    print('\\033[1m'+' Error of ', m, ':' +'\\033[0m')\n",
    "    print('Mean absolute error :', mean_absolute_error(Y_test,y_pred))\n",
    "    print('Mean squared error :', mean_squared_error(Y_test,y_pred))\n",
    "    print('Root Mean Squared Error:', np.sqrt(mean_squared_error(Y_test,y_pred)))\n",
    "    print('\\n')\n",
    "\n",
    "    print('\\033[1m'+' R2 Score :'+'\\033[0m')\n",
    "    print(r2_score(Y_test,y_pred)) \n",
    "    \n",
    "    # Cross Validation\n",
    "    score = cross_val_score(m, principle_x, Y, cv =4)\n",
    "    print('\\n')\n",
    "    print('\\033[1m'+'Cross Validation Score :',m,\":\"+'\\033[0m\\n')\n",
    "    print(\"Mean CV Score :\",score.mean())\n",
    "    print('==========================================================================="
   ]
  },
  {
   "cell_type": "code",
   "execution_count": null,
   "id": "b9a05d9e",
   "metadata": {},
   "outputs": [],
   "source": [
    " Error of  RandomForestRegressor(max_depth=6, n_estimators=250) :\n",
    "Mean absolute error : 4.732300000000002\n",
    "Mean squared error : 37.424012617777805\n",
    "Root Mean Squared Error: 6.117516866979429\n",
    "\n",
    "\n",
    " R2 Score :\n",
    "0.6413929020006319\n",
    "\n",
    "\n",
    "Cross Validation Score : RandomForestRegressor(max_depth=6, n_estimators=250) :\n",
    "\n",
    "Mean CV Score : 0.25631013522941115\n",
    "==============================================================================================================\n",
    "\n",
    "\n",
    " Error of  Lasso(alpha=0.01, max_iter=100000.0, normalize=True) :\n",
    "Mean absolute error : 2.5162689682579664\n",
    "Mean squared error : 8.44861521848299\n",
    "Root Mean Squared Error: 2.9066501713283266\n",
    "\n",
    "\n",
    " R2 Score :\n",
    "0.9190430642337308\n",
    "\n",
    "\n",
    "Cross Validation Score : Lasso(alpha=0.01, max_iter=100000.0, normalize=True) :\n",
    "\n",
    "Mean CV Score : 0.6710873546839929\n",
    "==============================================================================================================\n",
    "\n",
    "\n",
    " Error of  Ridge(alpha=0.01, normalize=True) :\n",
    "Mean absolute error : 2.57123505518942\n",
    "Mean squared error : 8.554305404400719\n",
    "Root Mean Squared Error: 2.924774419404122\n",
    "\n",
    "\n",
    " R2 Score :\n",
    "0.9180303120404782\n",
    "\n",
    "\n",
    "Cross Validation Score : Ridge(alpha=0.01, normalize=True) :\n",
    "\n",
    "Mean CV Score : 0.6706084407569662\n",
    "==============================================================================================================\n",
    "\n",
    "\n",
    " Error of  SVR(epsilon=0.2, gamma='auto', kernel='poly') :\n",
    "Mean absolute error : 3.818655360573942\n",
    "Mean squared error : 24.638694460239467\n",
    "Root Mean Squared Error: 4.963737952414437\n",
    "\n",
    "\n",
    " R2 Score :\n",
    "0.7639053083612328\n",
    "\n",
    "\n",
    "Cross Validation Score : SVR(epsilon=0.2, gamma='auto', kernel='poly') :\n",
    "\n",
    "Mean CV Score : 0.4844810448311656\n",
    "==============================================================================================================\n",
    "\n",
    "\n",
    " Error of  DecisionTreeRegressor() :\n",
    "Mean absolute error : 6.5\n",
    "Mean squared error : 65.5\n",
    "Root Mean Squared Error: 8.093207028119323\n",
    "\n",
    "\n",
    " R2 Score :\n",
    "0.372361131905974\n",
    "\n",
    "\n",
    "Cross Validation Score : DecisionTreeRegressor() :\n",
    "\n",
    "Mean CV Score : -0.024617930763145918\n",
    "==============================================================================================================\n",
    "\n",
    "\n",
    " Error of  AdaBoostRegressor(learning_rate=0.1) :\n",
    "Mean absolute error : 4.5912878787878775\n",
    "Mean squared error : 35.57373852157941\n",
    "Root Mean Squared Error: 5.964372433171776\n",
    "\n",
    "\n",
    " R2 Score :\n",
    "0.659122733136535\n",
    "\n",
    "\n",
    "Cross Validation Score : AdaBoostRegressor(learning_rate=0.1) :\n",
    "\n",
    "Mean CV Score : 0.19509760357017977\n",
    "==============================================================================================================\n",
    "\n",
    "\n",
    " Error of  GradientBoostingRegressor(max_depth=6) :\n",
    "Mean absolute error : 4.876689368662083\n",
    "Mean squared error : 29.07901640157286\n",
    "Root Mean Squared Error: 5.392496305197887\n",
    "\n",
    "\n",
    " R2 Score :\n",
    "0.7213569322202931\n",
    "\n",
    "\n",
    "Cross Validation Score : GradientBoostingRegressor(max_depth=6) :\n",
    "\n",
    "Mean CV Score : -0.14855043689363184\n",
    "==============================================================================================================\n",
    "\n",
    "\n",
    " Error of  KNeighborsRegressor(algorithm='kd_tree', n_neighbors=4) :\n",
    "Mean absolute error : 4.53125\n",
    "Mean squared error : 25.5078125\n",
    "Root Mean Squared Error: 5.050525962709231\n",
    "\n",
    "\n",
    " R2 Score :\n",
    "0.7555771822129062\n",
    "\n",
    "\n",
    "Cross Validation Score : KNeighborsRegressor(algorithm='kd_tree', n_neighbors=4) :\n",
    "\n",
    "Mean CV Score : 0.33019621736740373"
   ]
  },
  {
   "cell_type": "code",
   "execution_count": null,
   "id": "736786ee",
   "metadata": {},
   "outputs": [],
   "source": [
    " Error of  XGBRegressor(base_score=0.5, booster='gbtree', colsample_bylevel=1,\n",
    "             colsample_bynode=1, colsample_bytree=1, enable_categorical=False,\n",
    "             gamma=0, gpu_id=-1, importance_type=None,\n",
    "             interaction_constraints='', learning_rate=0.300000012,\n",
    "             max_delta_step=0, max_depth=6, min_child_weight=1, missing=nan,\n",
    "             monotone_constraints='()', n_estimators=100, n_jobs=4,\n",
    "             num_parallel_tree=1, predictor='auto', random_state=0, reg_alpha=0,\n",
    "             reg_lambda=1, scale_pos_weight=1, subsample=1, tree_method='exact',\n",
    "             validate_parameters=1, verbosity=None) :\n",
    "Mean absolute error : 3.31955623626709\n",
    "Mean squared error : 29.192663846064534\n",
    "Root Mean Squared Error: 5.40302358370427\n",
    "\n",
    "\n",
    " R2 Score :\n",
    "0.7202679314046818\n",
    "\n",
    "\n",
    "Cross Validation Score : XGBRegressor(base_score=0.5, booster='gbtree', colsample_bylevel=1,\n",
    "             colsample_bynode=1, colsample_bytree=1, enable_categorical=False,\n",
    "             gamma=0, gpu_id=-1, importance_type=None,\n",
    "             interaction_constraints='', learning_rate=0.300000012,\n",
    "             max_delta_step=0, max_depth=6, min_child_weight=1, missing=nan,\n",
    "             monotone_constraints='()', n_estimators=100, n_jobs=4,\n",
    "             num_parallel_tree=1, predictor='auto', random_state=0, reg_alpha=0,\n",
    "             reg_lambda=1, scale_pos_weight=1, subsample=1, tree_method='exact',\n",
    "             validate_parameters=1, verbosity=None) :\n",
    "\n",
    "Mean CV Score : 0.3892851095755226\n",
    "=============================================================================================================="
   ]
  },
  {
   "cell_type": "markdown",
   "id": "8a539792",
   "metadata": {},
   "source": [
    "we can see that Lasso Regression gives maximum R2 score of 91.90%. So we will apply Hyperparameter tuning on Lasso Regression"
   ]
  },
  {
   "cell_type": "code",
   "execution_count": null,
   "id": "046df431",
   "metadata": {},
   "outputs": [],
   "source": [
    "model = [rf,ls,rd,svr,dtc,adb,gradb,knn,xgb]\n",
    "\n",
    "for m in model:\n",
    "    plt.figure(figsize=(7,5))\n",
    "    m.fit(X_train,Y_train)\n",
    "    y_pred=m.predict(X_test)\n",
    "    print('\\n')\n",
    "    print('\\033[1m'+' True Values Vs Predicted Value plot', m, ':' +'\\033[0m')\n",
    "    sns.scatterplot(Y_test.round(2), y_pred)\n",
    "    plt.xlabel('True Values' , fontsize=15)\n",
    "    plt.ylabel('Predictions', fontsize=15)\n",
    "    plt.tight_layout()\n",
    "    plt.show()\n",
    "    print('\\n')\n",
    "    print('===================================================================================================')"
   ]
  },
  {
   "cell_type": "markdown",
   "id": "c76a0ae0",
   "metadata": {},
   "source": [
    "# Hyper Parameter Tuning : GridSearchCV"
   ]
  },
  {
   "cell_type": "code",
   "execution_count": null,
   "id": "1dcba038",
   "metadata": {},
   "outputs": [],
   "source": [
    "from sklearn.model_selection import GridSearchCV"
   ]
  },
  {
   "cell_type": "code",
   "execution_count": null,
   "id": "03cfa35e",
   "metadata": {},
   "outputs": [],
   "source": [
    "parameter = {'alpha':np.array([1,0.5,0.1,0.01,0.001,0.0001]),\n",
    "             'fit_intercept': [True,False],'normalize':[True,False],\n",
    "             'max_iter':[250,500,1000,1500],'random_state':np.arange(100),\n",
    "             'selection':[\"cyclic\",\"random\"]}"
   ]
  },
  {
   "cell_type": "code",
   "execution_count": null,
   "id": "aabe09ce",
   "metadata": {},
   "outputs": [],
   "source": [
    "GCV = GridSearchCV(Lasso(),parameter,cv=5,n_jobs = -1,verbose = 3)"
   ]
  },
  {
   "cell_type": "code",
   "execution_count": null,
   "id": "cb5105bd",
   "metadata": {},
   "outputs": [],
   "source": [
    "GCV.fit(X_train,Y_train)"
   ]
  },
  {
   "cell_type": "raw",
   "id": "5a31cad5",
   "metadata": {},
   "source": [
    "Fitting 5 folds for each of 19200 candidates, totalling 96000 fits\n",
    "[Parallel(n_jobs=-1)]: Using backend LokyBackend with 4 concurrent workers.\n",
    "[Parallel(n_jobs=-1)]: Done  56 tasks      | elapsed:    0.2s\n",
    "[Parallel(n_jobs=-1)]: Done 824 tasks      | elapsed:    3.7s\n",
    "[Parallel(n_jobs=-1)]: Done 2104 tasks      | elapsed:    9.5s\n",
    "[Parallel(n_jobs=-1)]: Done 3896 tasks      | elapsed:   16.4s\n",
    "[Parallel(n_jobs=-1)]: Done 6200 tasks      | elapsed:   30.2s\n",
    "[Parallel(n_jobs=-1)]: Done 9016 tasks      | elapsed:   44.3s\n",
    "[Parallel(n_jobs=-1)]: Done 12344 tasks      | elapsed:   58.5s\n",
    "[Parallel(n_jobs=-1)]: Done 16184 tasks      | elapsed:  1.2min\n",
    "[Parallel(n_jobs=-1)]: Done 20536 tasks      | elapsed:  1.5min\n",
    "[Parallel(n_jobs=-1)]: Done 25400 tasks      | elapsed:  1.8min\n",
    "[Parallel(n_jobs=-1)]: Done 30776 tasks      | elapsed:  2.2min\n",
    "[Parallel(n_jobs=-1)]: Done 36664 tasks      | elapsed:  2.6min\n",
    "[Parallel(n_jobs=-1)]: Done 43640 tasks      | elapsed:  3.1min\n",
    "[Parallel(n_jobs=-1)]: Done 57464 tasks      | elapsed:  3.9min\n",
    "[Parallel(n_jobs=-1)]: Done 72312 tasks      | elapsed:  4.9min\n",
    "[Parallel(n_jobs=-1)]: Done 88184 tasks      | elapsed:  5.9min\n",
    "[Parallel(n_jobs=-1)]: Done 96000 out of 96000 | elapsed:  6.3min finished"
   ]
  },
  {
   "cell_type": "code",
   "execution_count": null,
   "id": "c7bbe3df",
   "metadata": {},
   "outputs": [],
   "source": [
    "GridSearchCV(cv=5, estimator=Lasso(), n_jobs=-1,\n",
    "             param_grid={'alpha': array([1.e+00, 5.e-01, 1.e-01, 1.e-02, 1.e-03, 1.e-04]),\n",
    "                         'fit_intercept': [True, False],\n",
    "                         'max_iter': [250, 500, 1000, 1500],\n",
    "                         'normalize': [True, False],\n",
    "                         'random_state': array([ 0,  1,  2,  3,  4,  5,  6,  7,  8,  9, 10, 11, 12, 13, 14, 15, 16,\n",
    "       17, 18, 19, 20, 21, 22, 23, 24, 25, 26, 27, 28, 29, 30, 31, 32, 33,\n",
    "       34, 35, 36, 37, 38, 39, 40, 41, 42, 43, 44, 45, 46, 47, 48, 49, 50,\n",
    "       51, 52, 53, 54, 55, 56, 57, 58, 59, 60, 61, 62, 63, 64, 65, 66, 67,\n",
    "       68, 69, 70, 71, 72, 73, 74, 75, 76, 77, 78, 79, 80, 81, 82, 83, 84,\n",
    "       85, 86, 87, 88, 89, 90, 91, 92, 93, 94, 95, 96, 97, 98, 99]),\n",
    "                         'selection': ['cyclic', 'random']},\n",
    "             verbose=3)"
   ]
  },
  {
   "cell_type": "code",
   "execution_count": null,
   "id": "2b47e65d",
   "metadata": {},
   "outputs": [],
   "source": [
    "GCV.best_params_"
   ]
  },
  {
   "cell_type": "code",
   "execution_count": null,
   "id": "7617b39e",
   "metadata": {},
   "outputs": [],
   "source": [
    "{'alpha': 0.5,\n",
    " 'fit_intercept': True,\n",
    " 'max_iter': 250,\n",
    " 'normalize': True,\n",
    " 'random_state': 32,\n",
    " 'selection': 'random'}"
   ]
  },
  {
   "cell_type": "markdown",
   "id": "9ce50084",
   "metadata": {},
   "source": [
    "# Final Model"
   ]
  },
  {
   "cell_type": "code",
   "execution_count": null,
   "id": "384e04b7",
   "metadata": {},
   "outputs": [],
   "source": [
    "Final_mod = Lasso(alpha = 0.5, fit_intercept= True, normalize = False,\n",
    "                                           max_iter = 250, random_state = 32,selection ='random')\n",
    "Final_mod.fit(X_train,Y_train)\n",
    "y_pred=Final_mod.predict(X_test)\n",
    "print('\\n')                                        \n",
    "print('\\033[1m'+' Error in Final Model :' +'\\033[0m')\n",
    "print('Mean absolute error :', mean_absolute_error(Y_test,y_pred))\n",
    "print('Mean squared error :', mean_squared_error(Y_test,y_pred))\n",
    "print('Root Mean Squared Error:', np.sqrt(mean_squared_error(Y_test,y_pred)))\n",
    "print('\\n')\n",
    "print('\\033[1m'+' R2 Score of Final Model :'+'\\033[0m')\n",
    "print(r2_score(Y_test,y_pred)) \n",
    "print('\\n')"
   ]
  },
  {
   "cell_type": "raw",
   "id": "2dfcf0bb",
   "metadata": {},
   "source": [
    "Error in Final Model :\n",
    "Mean absolute error : 2.688805523945412\n",
    "Mean squared error : 9.617386970550847\n",
    "Root Mean Squared Error: 3.101191217992023\n",
    "\n",
    "\n",
    " R2 Score of Final Model :\n",
    "0.9078435744699425\n"
   ]
  },
  {
   "cell_type": "code",
   "execution_count": null,
   "id": "1f62568a",
   "metadata": {},
   "outputs": [],
   "source": [
    "plt.figure(figsize=(6,5))\n",
    "y_pred=Final_mod.predict(X_test)\n",
    "sns.swarmplot(Y_test.round(2), y_pred)\n",
    "print('\\033[1m'+' True Values Vs Predicted Value plot :' +'\\033[0m')\n",
    "plt.xlabel('True Values' , fontsize=15)\n",
    "plt.ylabel('Predictions', fontsize=15)\n",
    "plt.tight_layout()"
   ]
  },
  {
   "cell_type": "markdown",
   "id": "14ee4bbb",
   "metadata": {},
   "source": [
    "# Saving model"
   ]
  },
  {
   "cell_type": "code",
   "execution_count": null,
   "id": "392cc63d",
   "metadata": {},
   "outputs": [],
   "source": [
    "import joblib\n",
    "joblib.dump(Final_mod,'Baseballn_Final.pkl')"
   ]
  },
  {
   "cell_type": "raw",
   "id": "46705e50",
   "metadata": {},
   "source": [
    "['Baseballn_Final.pkl']"
   ]
  },
  {
   "cell_type": "code",
   "execution_count": null,
   "id": "67cb65a5",
   "metadata": {},
   "outputs": [],
   "source": []
  }
 ],
 "metadata": {
  "kernelspec": {
   "display_name": "Python 3 (ipykernel)",
   "language": "python",
   "name": "python3"
  },
  "language_info": {
   "codemirror_mode": {
    "name": "ipython",
    "version": 3
   },
   "file_extension": ".py",
   "mimetype": "text/x-python",
   "name": "python",
   "nbconvert_exporter": "python",
   "pygments_lexer": "ipython3",
   "version": "3.10.9"
  }
 },
 "nbformat": 4,
 "nbformat_minor": 5
}
